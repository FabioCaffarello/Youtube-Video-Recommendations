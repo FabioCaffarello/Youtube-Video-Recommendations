{
 "cells": [
  {
   "cell_type": "markdown",
   "metadata": {},
   "source": [
    "# IMPORTS"
   ]
  },
  {
   "cell_type": "markdown",
   "metadata": {},
   "source": [
    "## Libraries"
   ]
  },
  {
   "cell_type": "code",
   "execution_count": 1,
   "metadata": {},
   "outputs": [],
   "source": [
    "import pandas as pd\n",
    "import numpy as np\n",
    "import math\n",
    "from google.oauth2 import service_account\n",
    "from googleapiclient.discovery import build\n",
    "\n",
    "pd.set_option('display.max_columns', 200)"
   ]
  },
  {
   "cell_type": "markdown",
   "metadata": {},
   "source": [
    "# Read to Google Sheets"
   ]
  },
  {
   "cell_type": "code",
   "execution_count": 16,
   "metadata": {},
   "outputs": [],
   "source": [
    "# Documentation: https://developers.google.com/sheets/api/quickstart/python\n",
    "SERVICE_ACCOUNT_FILE = 'D:/01-DataScience/04-Projetos/00-Git/Youtube-Video-Recommendations/Credentials/keys.json'\n",
    "SCOPES = ['https://www.googleapis.com/auth/spreadsheets']\n",
    "\n",
    "credentials = None\n",
    "credentials = service_account.Credentials.from_service_account_file(\n",
    "        SERVICE_ACCOUNT_FILE, scopes=SCOPES)\n",
    "\n",
    "\n",
    "# The ID of spreadsheet.\n",
    "SAMPLE_SPREADSHEET_ID = '1uCur7jOXuLnwuwfWgoBL8mvDDvchuLf-o0X-AnOxS7s'\n",
    "\n",
    "service = build('sheets', 'v4', credentials=credentials)\n",
    "\n",
    "\n",
    "# Call the Sheets API\n",
    "sheet = service.spreadsheets()\n",
    "\n",
    "#Read Values\n",
    "result = sheet.values().get(spreadsheetId=SAMPLE_SPREADSHEET_ID,\n",
    "                            range=\"YoutubeScrapeSample!A1:R\").execute()\n",
    "\n",
    "values = result.get('values', [])"
   ]
  },
  {
   "cell_type": "code",
   "execution_count": 46,
   "metadata": {},
   "outputs": [],
   "source": [
    "dfGoogleSheets = pd.DataFrame(values[1:], columns=values[0])\n"
   ]
  },
  {
   "cell_type": "code",
   "execution_count": 59,
   "metadata": {},
   "outputs": [],
   "source": [
    "dfGoogleSheets['UploadDate'] = pd.to_datetime(dfGoogleSheets['UploadDate'])\n",
    "dfGoogleSheets['WatchList'] = dfGoogleSheets['WatchList'].replace('', np.nan)\n",
    "dfGoogleSheets[['DaysSincePublication', 'Duration', 'ViewCount', 'LikeCount', 'DislikeCount']] = dfGoogleSheets[['DaysSincePublication', 'Duration', 'ViewCount', 'LikeCount', 'DislikeCount']].astype(int)\n",
    "dfGoogleSheets['AverageRating'] = dfGoogleSheets['AverageRating'].astype(float)\n",
    "dfGoogleSheets[dfGoogleSheets.select_dtypes(include=['object']).columns] = dfGoogleSheets.select_dtypes(include=['object']).astype('category')"
   ]
  },
  {
   "cell_type": "code",
   "execution_count": 60,
   "metadata": {},
   "outputs": [
    {
     "data": {
      "text/plain": [
       "WatchList                     category\n",
       "Id                            category\n",
       "Uploader                      category\n",
       "UploadDate              datetime64[ns]\n",
       "Title                         category\n",
       "Description                   category\n",
       "Categories                    category\n",
       "Tags                          category\n",
       "Duration                         int32\n",
       "ViewCount                        int32\n",
       "LikeCount                        int32\n",
       "DislikeCount                     int32\n",
       "AverageRating                  float64\n",
       "Query                         category\n",
       "DaysSincePublication             int32\n",
       "ThumbnailUrl                  category\n",
       "ThumbnailWidth                category\n",
       "ThumbnailHeight               category\n",
       "dtype: object"
      ]
     },
     "execution_count": 60,
     "metadata": {},
     "output_type": "execute_result"
    }
   ],
   "source": [
    "dfGoogleSheets.dtypes"
   ]
  },
  {
   "cell_type": "code",
   "execution_count": 70,
   "metadata": {},
   "outputs": [],
   "source": [
    "dfTrain = dfGoogleSheets[dfGoogleSheets['WatchList'].notnull()].reset_index(drop=True)\n",
    "dfTest = dfGoogleSheets[dfGoogleSheets['WatchList'].isnull()].reset_index(drop=True)"
   ]
  },
  {
   "cell_type": "code",
   "execution_count": 71,
   "metadata": {},
   "outputs": [
    {
     "name": "stdout",
     "output_type": "stream",
     "text": [
      "\n",
      "\tTrain Dataset\n",
      "Number of Rows: 800\n",
      "Number of Columns: 18\n",
      "\n",
      "\n",
      "\tTest Dataset\n",
      "Number of Rows: 3582\n",
      "Number of Columns: 18\n"
     ]
    }
   ],
   "source": [
    "# Train Dataset\n",
    "print('\\n\\tTrain Dataset')\n",
    "print(f'Number of Rows: {dfTrain.shape[0]}')\n",
    "print(f'Number of Columns: {dfTrain.shape[1]}')\n",
    "\n",
    "# Test Dataset\n",
    "print('\\n\\n\\tTest Dataset')\n",
    "print(f'Number of Rows: {dfTest.shape[0]}')\n",
    "print(f'Number of Columns: {dfTest.shape[1]}')"
   ]
  },
  {
   "cell_type": "markdown",
   "metadata": {},
   "source": [
    "# Convert to .feather"
   ]
  },
  {
   "cell_type": "code",
   "execution_count": 72,
   "metadata": {},
   "outputs": [],
   "source": [
    "dfTrain.to_feather('../Data/FeatherData/dfTrainGS.feather')\n",
    "dfTest.to_feather('../Data/FeatherData/dfTestGS.feather')"
   ]
  }
 ],
 "metadata": {
  "kernelspec": {
   "display_name": "Python 3",
   "language": "python",
   "name": "python3"
  },
  "language_info": {
   "codemirror_mode": {
    "name": "ipython",
    "version": 3
   },
   "file_extension": ".py",
   "mimetype": "text/x-python",
   "name": "python",
   "nbconvert_exporter": "python",
   "pygments_lexer": "ipython3",
   "version": "3.8.3"
  }
 },
 "nbformat": 4,
 "nbformat_minor": 4
}
