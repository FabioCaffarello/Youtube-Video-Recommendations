{
 "cells": [
  {
   "cell_type": "markdown",
   "metadata": {},
   "source": [
    "# IMPORTS"
   ]
  },
  {
   "cell_type": "markdown",
   "metadata": {},
   "source": [
    "## Libraries"
   ]
  },
  {
   "cell_type": "code",
   "execution_count": 1,
   "metadata": {},
   "outputs": [],
   "source": [
    "import pandas as pd\n",
    "import numpy as np\n",
    "import math\n",
    "\n",
    "pd.set_option('display.max_columns', 200)"
   ]
  },
  {
   "cell_type": "markdown",
   "metadata": {},
   "source": [
    "## Load Data"
   ]
  },
  {
   "cell_type": "code",
   "execution_count": 2,
   "metadata": {},
   "outputs": [],
   "source": [
    "dfRaw1 = pd.read_feather('../Data/FeatherData/YouTubeStackExchangeQueryRaw.feather')"
   ]
  },
  {
   "cell_type": "code",
   "execution_count": 3,
   "metadata": {},
   "outputs": [
    {
     "data": {
      "text/html": [
       "<div>\n",
       "<style scoped>\n",
       "    .dataframe tbody tr th:only-of-type {\n",
       "        vertical-align: middle;\n",
       "    }\n",
       "\n",
       "    .dataframe tbody tr th {\n",
       "        vertical-align: top;\n",
       "    }\n",
       "\n",
       "    .dataframe thead th {\n",
       "        text-align: right;\n",
       "    }\n",
       "</style>\n",
       "<table border=\"1\" class=\"dataframe\">\n",
       "  <thead>\n",
       "    <tr style=\"text-align: right;\">\n",
       "      <th></th>\n",
       "      <th>Id</th>\n",
       "      <th>Uploader</th>\n",
       "      <th>UploadDate</th>\n",
       "      <th>Title</th>\n",
       "      <th>Description</th>\n",
       "      <th>Categories</th>\n",
       "      <th>Tags</th>\n",
       "      <th>Duration</th>\n",
       "      <th>ViewCount</th>\n",
       "      <th>LikeCount</th>\n",
       "      <th>DislikeCount</th>\n",
       "      <th>AverageRating</th>\n",
       "      <th>ThumbnailUrl</th>\n",
       "      <th>ThumbnailWidth</th>\n",
       "      <th>ThumbnailHeight</th>\n",
       "    </tr>\n",
       "  </thead>\n",
       "  <tbody>\n",
       "    <tr>\n",
       "      <th>341</th>\n",
       "      <td>ck7n2B9KItQ</td>\n",
       "      <td>creativecommIT</td>\n",
       "      <td>2018-02-07</td>\n",
       "      <td>Chapter 3 Getting Started with Python and Scik...</td>\n",
       "      <td>Lecture Notes: https://rakeshgopal.teachable.c...</td>\n",
       "      <td>Education</td>\n",
       "      <td>data science, python, scikit, scikit learn, pa...</td>\n",
       "      <td>307.0</td>\n",
       "      <td>133</td>\n",
       "      <td>2.0</td>\n",
       "      <td>NaN</td>\n",
       "      <td>5.000000</td>\n",
       "      <td>https://i.ytimg.com/vi/ck7n2B9KItQ/hqdefault.j...</td>\n",
       "      <td>168</td>\n",
       "      <td>94</td>\n",
       "    </tr>\n",
       "    <tr>\n",
       "      <th>2215</th>\n",
       "      <td>ljxhwHqWaYw</td>\n",
       "      <td>AiBeing Programming School</td>\n",
       "      <td>2020-05-24</td>\n",
       "      <td>Fire Detection Using Python OpenCV, CNN - Kera...</td>\n",
       "      <td>A deep learning models to detect fire uses ope...</td>\n",
       "      <td>People &amp; Blogs</td>\n",
       "      <td>nan</td>\n",
       "      <td>78.0</td>\n",
       "      <td>240</td>\n",
       "      <td>2.0</td>\n",
       "      <td>NaN</td>\n",
       "      <td>5.000000</td>\n",
       "      <td>https://i.ytimg.com/vi/ljxhwHqWaYw/hqdefault.j...</td>\n",
       "      <td>168</td>\n",
       "      <td>94</td>\n",
       "    </tr>\n",
       "    <tr>\n",
       "      <th>1382</th>\n",
       "      <td>W2hXbqnrUyY</td>\n",
       "      <td>Sigma Coding</td>\n",
       "      <td>2019-12-20</td>\n",
       "      <td>Predicting Stock Price Movement With Random Fo...</td>\n",
       "      <td>With a high-level overview of the</td>\n",
       "      <td>Education</td>\n",
       "      <td>Sigma Coding, Random Forests, Machine Learning...</td>\n",
       "      <td>1348.0</td>\n",
       "      <td>2</td>\n",
       "      <td>41.0</td>\n",
       "      <td>2.0</td>\n",
       "      <td>4.813953</td>\n",
       "      <td>https://i.ytimg.com/vi/W2hXbqnrUyY/hqdefault.j...</td>\n",
       "      <td>168</td>\n",
       "      <td>94</td>\n",
       "    </tr>\n",
       "    <tr>\n",
       "      <th>673</th>\n",
       "      <td>3k7qk__5tDY</td>\n",
       "      <td>Galit Shmueli</td>\n",
       "      <td>2016-11-30</td>\n",
       "      <td>Performance 1: Data partitioning for time series</td>\n",
       "      <td>Data partitioning is a fundamental step in pre...</td>\n",
       "      <td>Education</td>\n",
       "      <td>forecasting, performance, time series</td>\n",
       "      <td>431.0</td>\n",
       "      <td>9</td>\n",
       "      <td>136.0</td>\n",
       "      <td>7.0</td>\n",
       "      <td>4.804196</td>\n",
       "      <td>https://i.ytimg.com/vi/3k7qk__5tDY/hqdefault.j...</td>\n",
       "      <td>168</td>\n",
       "      <td>94</td>\n",
       "    </tr>\n",
       "    <tr>\n",
       "      <th>2711</th>\n",
       "      <td>bbkl62dvSpM</td>\n",
       "      <td>Py4Econ Official</td>\n",
       "      <td>2019-06-16</td>\n",
       "      <td>Data Science using Python хичээл 3: Support Ve...</td>\n",
       "      <td>Уг хичээлээр Machine Learning-ийн</td>\n",
       "      <td>People &amp; Blogs</td>\n",
       "      <td>machine learning, data science, python, suppor...</td>\n",
       "      <td>2348.0</td>\n",
       "      <td>158</td>\n",
       "      <td>7.0</td>\n",
       "      <td>NaN</td>\n",
       "      <td>5.000000</td>\n",
       "      <td>https://i.ytimg.com/vi/bbkl62dvSpM/hqdefault.j...</td>\n",
       "      <td>168</td>\n",
       "      <td>94</td>\n",
       "    </tr>\n",
       "  </tbody>\n",
       "</table>\n",
       "</div>"
      ],
      "text/plain": [
       "               Id                    Uploader UploadDate  \\\n",
       "341   ck7n2B9KItQ              creativecommIT 2018-02-07   \n",
       "2215  ljxhwHqWaYw  AiBeing Programming School 2020-05-24   \n",
       "1382  W2hXbqnrUyY                Sigma Coding 2019-12-20   \n",
       "673   3k7qk__5tDY               Galit Shmueli 2016-11-30   \n",
       "2711  bbkl62dvSpM            Py4Econ Official 2019-06-16   \n",
       "\n",
       "                                                  Title  \\\n",
       "341   Chapter 3 Getting Started with Python and Scik...   \n",
       "2215  Fire Detection Using Python OpenCV, CNN - Kera...   \n",
       "1382  Predicting Stock Price Movement With Random Fo...   \n",
       "673    Performance 1: Data partitioning for time series   \n",
       "2711  Data Science using Python хичээл 3: Support Ve...   \n",
       "\n",
       "                                            Description      Categories  \\\n",
       "341   Lecture Notes: https://rakeshgopal.teachable.c...       Education   \n",
       "2215  A deep learning models to detect fire uses ope...  People & Blogs   \n",
       "1382                 With a high-level overview of the        Education   \n",
       "673   Data partitioning is a fundamental step in pre...       Education   \n",
       "2711                 Уг хичээлээр Machine Learning-ийн   People & Blogs   \n",
       "\n",
       "                                                   Tags  Duration  ViewCount  \\\n",
       "341   data science, python, scikit, scikit learn, pa...     307.0        133   \n",
       "2215                                                nan      78.0        240   \n",
       "1382  Sigma Coding, Random Forests, Machine Learning...    1348.0          2   \n",
       "673               forecasting, performance, time series     431.0          9   \n",
       "2711  machine learning, data science, python, suppor...    2348.0        158   \n",
       "\n",
       "      LikeCount  DislikeCount  AverageRating  \\\n",
       "341         2.0           NaN       5.000000   \n",
       "2215        2.0           NaN       5.000000   \n",
       "1382       41.0           2.0       4.813953   \n",
       "673       136.0           7.0       4.804196   \n",
       "2711        7.0           NaN       5.000000   \n",
       "\n",
       "                                           ThumbnailUrl  ThumbnailWidth  \\\n",
       "341   https://i.ytimg.com/vi/ck7n2B9KItQ/hqdefault.j...             168   \n",
       "2215  https://i.ytimg.com/vi/ljxhwHqWaYw/hqdefault.j...             168   \n",
       "1382  https://i.ytimg.com/vi/W2hXbqnrUyY/hqdefault.j...             168   \n",
       "673   https://i.ytimg.com/vi/3k7qk__5tDY/hqdefault.j...             168   \n",
       "2711  https://i.ytimg.com/vi/bbkl62dvSpM/hqdefault.j...             168   \n",
       "\n",
       "      ThumbnailHeight  \n",
       "341                94  \n",
       "2215               94  \n",
       "1382               94  \n",
       "673                94  \n",
       "2711               94  "
      ]
     },
     "execution_count": 3,
     "metadata": {},
     "output_type": "execute_result"
    }
   ],
   "source": [
    "dfRaw1.sample(5)"
   ]
  },
  {
   "cell_type": "markdown",
   "metadata": {},
   "source": [
    "# DESCRIPTION OF THE DATA"
   ]
  },
  {
   "cell_type": "code",
   "execution_count": 4,
   "metadata": {},
   "outputs": [
    {
     "name": "stdout",
     "output_type": "stream",
     "text": [
      "Number of Rows: 4382\n",
      "Number of Columns: 15\n"
     ]
    }
   ],
   "source": [
    "print(f'Number of Rows: {dfRaw1.shape[0]}')\n",
    "print(f'Number of Columns: {dfRaw1.shape[1]}')"
   ]
  },
  {
   "cell_type": "markdown",
   "metadata": {},
   "source": [
    "## Fillout NA"
   ]
  },
  {
   "cell_type": "code",
   "execution_count": 32,
   "metadata": {},
   "outputs": [
    {
     "data": {
      "text/plain": [
       "Id                    0\n",
       "Uploader              0\n",
       "UploadDate            0\n",
       "Title                 0\n",
       "Description         243\n",
       "Categories            0\n",
       "Tags                  0\n",
       "Duration              0\n",
       "ViewCount             0\n",
       "LikeCount           476\n",
       "DislikeCount       2271\n",
       "AverageRating       407\n",
       "ThumbnailUrl          0\n",
       "ThumbnailWidth        0\n",
       "ThumbnailHeight       0\n",
       "dtype: int64"
      ]
     },
     "execution_count": 32,
     "metadata": {},
     "output_type": "execute_result"
    }
   ],
   "source": [
    "dfRaw1.isnull().sum()"
   ]
  },
  {
   "cell_type": "code",
   "execution_count": 39,
   "metadata": {},
   "outputs": [],
   "source": [
    "# LikeCount\n",
    "dfRaw1['LikeCount'] = dfRaw1['LikeCount'].apply(lambda row: 0 if math.isnan(row) else row)\n",
    "\n",
    "# DislikeCount\n",
    "dfRaw1['DislikeCount'] = dfRaw1['DislikeCount'].apply(lambda row: 0 if math.isnan(row) else row)\n",
    "\n",
    "# DislikeCount\n",
    "dfRaw1['AverageRating'] = dfRaw1['AverageRating'].apply(lambda row: -1 if math.isnan(row) else row)\n",
    "\n",
    "# Description\n",
    "dfRaw1['Description'].fillna(\"no description\", inplace=True)"
   ]
  },
  {
   "cell_type": "code",
   "execution_count": 40,
   "metadata": {},
   "outputs": [
    {
     "data": {
      "text/plain": [
       "Id                 0\n",
       "Uploader           0\n",
       "UploadDate         0\n",
       "Title              0\n",
       "Description        0\n",
       "Categories         0\n",
       "Tags               0\n",
       "Duration           0\n",
       "ViewCount          0\n",
       "LikeCount          0\n",
       "DislikeCount       0\n",
       "AverageRating      0\n",
       "ThumbnailUrl       0\n",
       "ThumbnailWidth     0\n",
       "ThumbnailHeight    0\n",
       "dtype: int64"
      ]
     },
     "execution_count": 40,
     "metadata": {},
     "output_type": "execute_result"
    }
   ],
   "source": [
    "dfRaw1.isnull().sum()"
   ]
  },
  {
   "cell_type": "markdown",
   "metadata": {},
   "source": [
    "# Shuffle Data and Prepare to send to Google Sheets"
   ]
  },
  {
   "cell_type": "code",
   "execution_count": 41,
   "metadata": {},
   "outputs": [],
   "source": [
    "dfShuffle = dfRaw1.sample(frac=1)\n",
    "dfShuffle['UploadDate'] = dfShuffle['UploadDate'].astype(str)\n",
    "dfShuffle = dfShuffle.values.tolist()"
   ]
  },
  {
   "cell_type": "markdown",
   "metadata": {},
   "source": [
    "# Send to Google Sheets"
   ]
  },
  {
   "cell_type": "code",
   "execution_count": 43,
   "metadata": {},
   "outputs": [],
   "source": [
    "from google.oauth2 import service_account\n",
    "from googleapiclient.discovery import build\n",
    "\n",
    "\n",
    "# Documentation: https://developers.google.com/sheets/api/quickstart/python\n",
    "SERVICE_ACCOUNT_FILE = 'D:/01-DataScience/04-Projetos/00-Git/Youtube-Video-Recommendations/Credentials/keys.json'\n",
    "SCOPES = ['https://www.googleapis.com/auth/spreadsheets']\n",
    "\n",
    "credentials = None\n",
    "credentials = service_account.Credentials.from_service_account_file(\n",
    "        SERVICE_ACCOUNT_FILE, scopes=SCOPES)\n",
    "\n",
    "\n",
    "# The ID of spreadsheet.\n",
    "SAMPLE_SPREADSHEET_ID = '1uCur7jOXuLnwuwfWgoBL8mvDDvchuLf-o0X-AnOxS7s'\n",
    "\n",
    "service = build('sheets', 'v4', credentials=credentials)\n",
    "\n",
    "\n",
    "# Call the Sheets API\n",
    "sheet = service.spreadsheets()\n",
    "\n",
    "# Read Values\n",
    "# result = sheet.values().get(spreadsheetId=SAMPLE_SPREADSHEET_ID,\n",
    "#                             range=\"YoutubeScrapeSample!A1:B11\").execute()\n",
    "\n",
    "# values = result.get('values', [])\n",
    "\n",
    "# Write Values\n",
    "request = sheet.values().update(spreadsheetId=SAMPLE_SPREADSHEET_ID,\n",
    "                               range=\"YoutubeScrapeSample!A2\", valueInputOption=\"USER_ENTERED\", body={\"values\":dfShuffle}).execute()"
   ]
  }
 ],
 "metadata": {
  "kernelspec": {
   "display_name": "Python 3",
   "language": "python",
   "name": "python3"
  },
  "language_info": {
   "codemirror_mode": {
    "name": "ipython",
    "version": 3
   },
   "file_extension": ".py",
   "mimetype": "text/x-python",
   "name": "python",
   "nbconvert_exporter": "python",
   "pygments_lexer": "ipython3",
   "version": "3.8.3"
  }
 },
 "nbformat": 4,
 "nbformat_minor": 4
}
