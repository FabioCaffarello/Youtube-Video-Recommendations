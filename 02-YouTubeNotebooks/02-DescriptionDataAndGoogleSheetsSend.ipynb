{
 "cells": [
  {
   "cell_type": "markdown",
   "metadata": {},
   "source": [
    "# IMPORTS"
   ]
  },
  {
   "cell_type": "markdown",
   "metadata": {},
   "source": [
    "## Libraries"
   ]
  },
  {
   "cell_type": "code",
   "execution_count": 1,
   "metadata": {},
   "outputs": [],
   "source": [
    "import math\n",
    "\n",
    "import pandas as pd\n",
    "import numpy  as np\n",
    "\n",
    "from google.oauth2             import service_account\n",
    "from googleapiclient.discovery import build\n",
    "\n",
    "\n",
    "\n",
    "pd.set_option('display.max_columns', 200)"
   ]
  },
  {
   "cell_type": "markdown",
   "metadata": {},
   "source": [
    "## Load Data"
   ]
  },
  {
   "cell_type": "code",
   "execution_count": 2,
   "metadata": {},
   "outputs": [],
   "source": [
    "dfRaw1 = pd.read_feather('../Data/FeatherData/YouTubeStackExchangeQueryRaw.feather')"
   ]
  },
  {
   "cell_type": "code",
   "execution_count": 3,
   "metadata": {},
   "outputs": [
    {
     "data": {
      "text/html": [
       "<div>\n",
       "<style scoped>\n",
       "    .dataframe tbody tr th:only-of-type {\n",
       "        vertical-align: middle;\n",
       "    }\n",
       "\n",
       "    .dataframe tbody tr th {\n",
       "        vertical-align: top;\n",
       "    }\n",
       "\n",
       "    .dataframe thead th {\n",
       "        text-align: right;\n",
       "    }\n",
       "</style>\n",
       "<table border=\"1\" class=\"dataframe\">\n",
       "  <thead>\n",
       "    <tr style=\"text-align: right;\">\n",
       "      <th></th>\n",
       "      <th>Id</th>\n",
       "      <th>Uploader</th>\n",
       "      <th>UploadDate</th>\n",
       "      <th>Title</th>\n",
       "      <th>Description</th>\n",
       "      <th>Categories</th>\n",
       "      <th>Tags</th>\n",
       "      <th>Duration</th>\n",
       "      <th>ViewCount</th>\n",
       "      <th>LikeCount</th>\n",
       "      <th>DislikeCount</th>\n",
       "      <th>AverageRating</th>\n",
       "      <th>Query</th>\n",
       "      <th>DaysSincePublication</th>\n",
       "      <th>ThumbnailUrl</th>\n",
       "      <th>ThumbnailWidth</th>\n",
       "      <th>ThumbnailHeight</th>\n",
       "    </tr>\n",
       "  </thead>\n",
       "  <tbody>\n",
       "    <tr>\n",
       "      <th>1554</th>\n",
       "      <td>oShHO3XTubU</td>\n",
       "      <td>Learn Coding</td>\n",
       "      <td>2020-09-24</td>\n",
       "      <td>how to install anaconda(python) on windows 10 ...</td>\n",
       "      <td>Hello guys, In this video i'm showing you How ...</td>\n",
       "      <td>People &amp; Blogs</td>\n",
       "      <td>anaconda navigator download and install, how t...</td>\n",
       "      <td>817.0</td>\n",
       "      <td>42</td>\n",
       "      <td>5.0</td>\n",
       "      <td>NaN</td>\n",
       "      <td>5.0</td>\n",
       "      <td>scipy</td>\n",
       "      <td>99.0</td>\n",
       "      <td>https://i.ytimg.com/vi/oShHO3XTubU/hqdefault.j...</td>\n",
       "      <td>168</td>\n",
       "      <td>94</td>\n",
       "    </tr>\n",
       "    <tr>\n",
       "      <th>2003</th>\n",
       "      <td>Bmya3yirFgs</td>\n",
       "      <td>Atom</td>\n",
       "      <td>2020-11-14</td>\n",
       "      <td>MultiClass Logistic Regression, Python Machine...</td>\n",
       "      <td>In this #PythonMachineLearning series, #MultiC...</td>\n",
       "      <td>Education</td>\n",
       "      <td>multiclass logistic regression, iris dataset, ...</td>\n",
       "      <td>1172.0</td>\n",
       "      <td>21</td>\n",
       "      <td>2.0</td>\n",
       "      <td>NaN</td>\n",
       "      <td>5.0</td>\n",
       "      <td>logistic</td>\n",
       "      <td>48.0</td>\n",
       "      <td>https://i.ytimg.com/vi/Bmya3yirFgs/hqdefault.j...</td>\n",
       "      <td>168</td>\n",
       "      <td>94</td>\n",
       "    </tr>\n",
       "    <tr>\n",
       "      <th>99</th>\n",
       "      <td>5KTdE-vQ1l8</td>\n",
       "      <td>Barki</td>\n",
       "      <td>2020-04-28</td>\n",
       "      <td>How to Install Scikit learn Library in Python|...</td>\n",
       "      <td>Hi Guys in this tutorial we learn how to install</td>\n",
       "      <td>Film &amp; Animation</td>\n",
       "      <td>nan</td>\n",
       "      <td>157.0</td>\n",
       "      <td>216</td>\n",
       "      <td>10.0</td>\n",
       "      <td>NaN</td>\n",
       "      <td>5.0</td>\n",
       "      <td>scikit-learn</td>\n",
       "      <td>248.0</td>\n",
       "      <td>https://i.ytimg.com/vi/5KTdE-vQ1l8/hqdefault.j...</td>\n",
       "      <td>168</td>\n",
       "      <td>94</td>\n",
       "    </tr>\n",
       "    <tr>\n",
       "      <th>332</th>\n",
       "      <td>OPPS0fQdWF0</td>\n",
       "      <td>cctmexico</td>\n",
       "      <td>2018-04-15</td>\n",
       "      <td>Datos para entrenar | Training Data Set  | Sci...</td>\n",
       "      <td>Cómo utilizar SKlearn para separar tus datos, ...</td>\n",
       "      <td>Education</td>\n",
       "      <td>Python, análisis de datos en Python, Python en...</td>\n",
       "      <td>1236.0</td>\n",
       "      <td>7</td>\n",
       "      <td>244.0</td>\n",
       "      <td>NaN</td>\n",
       "      <td>5.0</td>\n",
       "      <td>scikit-learn</td>\n",
       "      <td>992.0</td>\n",
       "      <td>https://i.ytimg.com/vi/OPPS0fQdWF0/hqdefault.j...</td>\n",
       "      <td>168</td>\n",
       "      <td>94</td>\n",
       "    </tr>\n",
       "    <tr>\n",
       "      <th>1346</th>\n",
       "      <td>mbSUVwXmHa0</td>\n",
       "      <td>Auribises</td>\n",
       "      <td>2020-03-25</td>\n",
       "      <td>Random Forest | Machine Learning | Python | Co...</td>\n",
       "      <td>Random Forest</td>\n",
       "      <td>Education</td>\n",
       "      <td>machine learning, regression, random forest, c...</td>\n",
       "      <td>4014.0</td>\n",
       "      <td>152</td>\n",
       "      <td>4.0</td>\n",
       "      <td>NaN</td>\n",
       "      <td>5.0</td>\n",
       "      <td>random-forest</td>\n",
       "      <td>282.0</td>\n",
       "      <td>https://i.ytimg.com/vi/mbSUVwXmHa0/hqdefault.j...</td>\n",
       "      <td>168</td>\n",
       "      <td>94</td>\n",
       "    </tr>\n",
       "  </tbody>\n",
       "</table>\n",
       "</div>"
      ],
      "text/plain": [
       "               Id      Uploader UploadDate  \\\n",
       "1554  oShHO3XTubU  Learn Coding 2020-09-24   \n",
       "2003  Bmya3yirFgs          Atom 2020-11-14   \n",
       "99    5KTdE-vQ1l8         Barki 2020-04-28   \n",
       "332   OPPS0fQdWF0     cctmexico 2018-04-15   \n",
       "1346  mbSUVwXmHa0     Auribises 2020-03-25   \n",
       "\n",
       "                                                  Title  \\\n",
       "1554  how to install anaconda(python) on windows 10 ...   \n",
       "2003  MultiClass Logistic Regression, Python Machine...   \n",
       "99    How to Install Scikit learn Library in Python|...   \n",
       "332   Datos para entrenar | Training Data Set  | Sci...   \n",
       "1346  Random Forest | Machine Learning | Python | Co...   \n",
       "\n",
       "                                            Description        Categories  \\\n",
       "1554  Hello guys, In this video i'm showing you How ...    People & Blogs   \n",
       "2003  In this #PythonMachineLearning series, #MultiC...         Education   \n",
       "99    Hi Guys in this tutorial we learn how to install   Film & Animation   \n",
       "332   Cómo utilizar SKlearn para separar tus datos, ...         Education   \n",
       "1346                                      Random Forest         Education   \n",
       "\n",
       "                                                   Tags  Duration  ViewCount  \\\n",
       "1554  anaconda navigator download and install, how t...     817.0         42   \n",
       "2003  multiclass logistic regression, iris dataset, ...    1172.0         21   \n",
       "99                                                  nan     157.0        216   \n",
       "332   Python, análisis de datos en Python, Python en...    1236.0          7   \n",
       "1346  machine learning, regression, random forest, c...    4014.0        152   \n",
       "\n",
       "      LikeCount  DislikeCount  AverageRating          Query  \\\n",
       "1554        5.0           NaN            5.0          scipy   \n",
       "2003        2.0           NaN            5.0       logistic   \n",
       "99         10.0           NaN            5.0   scikit-learn   \n",
       "332       244.0           NaN            5.0   scikit-learn   \n",
       "1346        4.0           NaN            5.0  random-forest   \n",
       "\n",
       "      DaysSincePublication                                       ThumbnailUrl  \\\n",
       "1554                  99.0  https://i.ytimg.com/vi/oShHO3XTubU/hqdefault.j...   \n",
       "2003                  48.0  https://i.ytimg.com/vi/Bmya3yirFgs/hqdefault.j...   \n",
       "99                   248.0  https://i.ytimg.com/vi/5KTdE-vQ1l8/hqdefault.j...   \n",
       "332                  992.0  https://i.ytimg.com/vi/OPPS0fQdWF0/hqdefault.j...   \n",
       "1346                 282.0  https://i.ytimg.com/vi/mbSUVwXmHa0/hqdefault.j...   \n",
       "\n",
       "      ThumbnailWidth  ThumbnailHeight  \n",
       "1554             168               94  \n",
       "2003             168               94  \n",
       "99               168               94  \n",
       "332              168               94  \n",
       "1346             168               94  "
      ]
     },
     "execution_count": 3,
     "metadata": {},
     "output_type": "execute_result"
    }
   ],
   "source": [
    "dfRaw1.sample(5)"
   ]
  },
  {
   "cell_type": "markdown",
   "metadata": {},
   "source": [
    "# DESCRIPTION OF THE DATA"
   ]
  },
  {
   "cell_type": "code",
   "execution_count": 4,
   "metadata": {},
   "outputs": [
    {
     "name": "stdout",
     "output_type": "stream",
     "text": [
      "Number of Rows: 4382\n",
      "Number of Columns: 17\n"
     ]
    }
   ],
   "source": [
    "print(f'Number of Rows: {dfRaw1.shape[0]}')\n",
    "print(f'Number of Columns: {dfRaw1.shape[1]}')"
   ]
  },
  {
   "cell_type": "markdown",
   "metadata": {},
   "source": [
    "## Fillout NA"
   ]
  },
  {
   "cell_type": "code",
   "execution_count": 5,
   "metadata": {},
   "outputs": [
    {
     "data": {
      "text/plain": [
       "Id                         0\n",
       "Uploader                   0\n",
       "UploadDate                 0\n",
       "Title                      0\n",
       "Description              243\n",
       "Categories                 0\n",
       "Tags                       0\n",
       "Duration                   0\n",
       "ViewCount                  0\n",
       "LikeCount                476\n",
       "DislikeCount            2271\n",
       "AverageRating            407\n",
       "Query                      0\n",
       "DaysSincePublication       0\n",
       "ThumbnailUrl               0\n",
       "ThumbnailWidth             0\n",
       "ThumbnailHeight            0\n",
       "dtype: int64"
      ]
     },
     "execution_count": 5,
     "metadata": {},
     "output_type": "execute_result"
    }
   ],
   "source": [
    "dfRaw1.isnull().sum()"
   ]
  },
  {
   "cell_type": "code",
   "execution_count": 6,
   "metadata": {},
   "outputs": [],
   "source": [
    "# LikeCount\n",
    "dfRaw1['LikeCount'] = dfRaw1['LikeCount'].apply(lambda row: 0 if math.isnan(row) else row)\n",
    "\n",
    "# DislikeCount\n",
    "dfRaw1['DislikeCount'] = dfRaw1['DislikeCount'].apply(lambda row: 0 if math.isnan(row) else row)\n",
    "\n",
    "# DislikeCount\n",
    "dfRaw1['AverageRating'] = dfRaw1['AverageRating'].apply(lambda row: -1 if math.isnan(row) else row)\n",
    "\n",
    "# Description\n",
    "dfRaw1['Description'].fillna(\"no description\", inplace=True)"
   ]
  },
  {
   "cell_type": "code",
   "execution_count": 7,
   "metadata": {},
   "outputs": [
    {
     "data": {
      "text/plain": [
       "Id                      0\n",
       "Uploader                0\n",
       "UploadDate              0\n",
       "Title                   0\n",
       "Description             0\n",
       "Categories              0\n",
       "Tags                    0\n",
       "Duration                0\n",
       "ViewCount               0\n",
       "LikeCount               0\n",
       "DislikeCount            0\n",
       "AverageRating           0\n",
       "Query                   0\n",
       "DaysSincePublication    0\n",
       "ThumbnailUrl            0\n",
       "ThumbnailWidth          0\n",
       "ThumbnailHeight         0\n",
       "dtype: int64"
      ]
     },
     "execution_count": 7,
     "metadata": {},
     "output_type": "execute_result"
    }
   ],
   "source": [
    "dfRaw1.isnull().sum()"
   ]
  },
  {
   "cell_type": "markdown",
   "metadata": {},
   "source": [
    "# Shuffle Data and Prepare to send to Google Sheets"
   ]
  },
  {
   "cell_type": "code",
   "execution_count": 8,
   "metadata": {},
   "outputs": [],
   "source": [
    "dfShuffle = dfRaw1.sample(frac=1)\n",
    "dfShuffle['UploadDate'] = dfShuffle['UploadDate'].astype(str)\n",
    "dfShuffle = dfShuffle.values.tolist()"
   ]
  },
  {
   "cell_type": "markdown",
   "metadata": {},
   "source": [
    "# Send to Google Sheets"
   ]
  },
  {
   "cell_type": "code",
   "execution_count": 10,
   "metadata": {},
   "outputs": [],
   "source": [
    "# Documentation: https://developers.google.com/sheets/api/quickstart/python\n",
    "SERVICE_ACCOUNT_FILE = 'D:/01-DataScience/04-Projetos/00-Git/Youtube-Video-Recommendations/Credentials/keys.json'\n",
    "SCOPES = ['https://www.googleapis.com/auth/spreadsheets']\n",
    "\n",
    "credentials = None\n",
    "credentials = service_account.Credentials.from_service_account_file(\n",
    "        SERVICE_ACCOUNT_FILE, scopes=SCOPES)\n",
    "\n",
    "\n",
    "# The ID of spreadsheet.\n",
    "SAMPLE_SPREADSHEET_ID = '1uCur7jOXuLnwuwfWgoBL8mvDDvchuLf-o0X-AnOxS7s'\n",
    "\n",
    "service = build('sheets', 'v4', credentials=credentials)\n",
    "\n",
    "\n",
    "# Call the Sheets API\n",
    "sheet = service.spreadsheets()\n",
    "\n",
    "# Read Values\n",
    "# result = sheet.values().get(spreadsheetId=SAMPLE_SPREADSHEET_ID,\n",
    "#                             range=\"YoutubeScrapeSample!A1:B11\").execute()\n",
    "\n",
    "# values = result.get('values', [])\n",
    "\n",
    "# Write Values\n",
    "request = sheet.values().update(spreadsheetId=SAMPLE_SPREADSHEET_ID,\n",
    "                               range=\"YoutubeScrapeSample!A2\", valueInputOption=\"USER_ENTERED\", body={\"values\":dfShuffle}).execute()"
   ]
  },
  {
   "cell_type": "code",
   "execution_count": 12,
   "metadata": {},
   "outputs": [
    {
     "data": {
      "text/plain": [
       "Index(['Id', 'Uploader', 'UploadDate', 'Title', 'Description', 'Categories',\n",
       "       'Tags', 'Duration', 'ViewCount', 'LikeCount', 'DislikeCount',\n",
       "       'AverageRating', 'Query', 'DaysSincePublication', 'ThumbnailUrl',\n",
       "       'ThumbnailWidth', 'ThumbnailHeight'],\n",
       "      dtype='object')"
      ]
     },
     "execution_count": 12,
     "metadata": {},
     "output_type": "execute_result"
    }
   ],
   "source": [
    "dfRaw1.columns"
   ]
  }
 ],
 "metadata": {
  "kernelspec": {
   "display_name": "Python 3",
   "language": "python",
   "name": "python3"
  },
  "language_info": {
   "codemirror_mode": {
    "name": "ipython",
    "version": 3
   },
   "file_extension": ".py",
   "mimetype": "text/x-python",
   "name": "python",
   "nbconvert_exporter": "python",
   "pygments_lexer": "ipython3",
   "version": "3.8.3"
  }
 },
 "nbformat": 4,
 "nbformat_minor": 4
}
