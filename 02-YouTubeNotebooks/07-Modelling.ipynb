{
 "cells": [
  {
   "cell_type": "markdown",
   "metadata": {},
   "source": [
    "# IMPORTS"
   ]
  },
  {
   "cell_type": "markdown",
   "metadata": {},
   "source": [
    "## Libraries"
   ]
  },
  {
   "cell_type": "code",
   "execution_count": 1,
   "metadata": {},
   "outputs": [],
   "source": [
    "import warnings\n",
    "\n",
    "import pandas as pd\n",
    "import numpy  as np\n",
    "\n",
    "import matplotlib.pyplot as plt\n",
    "\n",
    "from skopt                           import forest_minimize\n",
    "from lightgbm                        import LGBMClassifier\n",
    "from scipy.sparse                    import hstack, csr_matrix\n",
    "from sklearn.metrics                 import roc_auc_score, average_precision_score\n",
    "from sklearn.ensemble                import RandomForestClassifier\n",
    "from sklearn.linear_model            import LogisticRegression\n",
    "from sklearn.preprocessing           import MaxAbsScaler\n",
    "from sklearn.feature_extraction.text import TfidfVectorizer\n",
    "\n",
    "\n",
    "np.random.seed(0)\n",
    "%matplotlib inline\n",
    "pd.set_option('display.max_columns', 200)\n",
    "warnings.filterwarnings(\"ignore\")"
   ]
  },
  {
   "cell_type": "markdown",
   "metadata": {},
   "source": [
    "# Load Data"
   ]
  },
  {
   "cell_type": "code",
   "execution_count": 2,
   "metadata": {},
   "outputs": [],
   "source": [
    "dfRaw = pd.read_feather('../Data/FeatherData/dfAllDataLabeled.feather')"
   ]
  },
  {
   "cell_type": "code",
   "execution_count": 3,
   "metadata": {},
   "outputs": [],
   "source": [
    "dfRaw = dfRaw.sort_values('UploadDate')"
   ]
  },
  {
   "cell_type": "markdown",
   "metadata": {},
   "source": [
    "# Feature Engineering"
   ]
  },
  {
   "cell_type": "code",
   "execution_count": 4,
   "metadata": {},
   "outputs": [
    {
     "data": {
      "text/plain": [
       "(1773, 21)"
      ]
     },
     "execution_count": 4,
     "metadata": {},
     "output_type": "execute_result"
    }
   ],
   "source": [
    "dfRaw.shape"
   ]
  },
  {
   "cell_type": "code",
   "execution_count": 5,
   "metadata": {},
   "outputs": [],
   "source": [
    "dfFeatures = pd.DataFrame(index=dfRaw.index)\n",
    "dfFeatures['ViewCount'] = dfRaw['ViewCount']\n",
    "dfFeatures['DaysSincePublication'] = dfRaw['DaysSincePublication']\n",
    "dfFeatures['WatchList'] = dfRaw['WatchList']\n",
    "dfFeatures['ViewsPerDay'] = dfFeatures['ViewCount'] / dfFeatures['DaysSincePublication']\n",
    "dfFeatures = dfFeatures.drop('DaysSincePublication', axis=1)"
   ]
  },
  {
   "cell_type": "markdown",
   "metadata": {},
   "source": [
    "# Split DataFrame into Training and Validation Dataset"
   ]
  },
  {
   "cell_type": "code",
   "execution_count": 6,
   "metadata": {},
   "outputs": [
    {
     "data": {
      "text/plain": [
       "Timestamp('2019-11-27 00:00:00')"
      ]
     },
     "execution_count": 6,
     "metadata": {},
     "output_type": "execute_result"
    }
   ],
   "source": [
    "dfRaw['UploadDate'].iloc[int(round(dfRaw.shape[0]/2,0))]"
   ]
  },
  {
   "cell_type": "code",
   "execution_count": 7,
   "metadata": {},
   "outputs": [],
   "source": [
    "dateSplit = '2019-11-27'\n",
    "\n",
    "maskTrain = (dfRaw['UploadDate'] < dateSplit)\n",
    "\n",
    "maskVal = (dfRaw['UploadDate'] >= dateSplit)\n",
    "\n",
    "Xtrain, Xval = dfFeatures[maskTrain].drop('WatchList', axis=1) , dfFeatures[maskVal].drop('WatchList', axis=1)\n",
    "ytrain, yval = dfFeatures[maskTrain]['WatchList'], dfFeatures[maskVal]['WatchList']"
   ]
  },
  {
   "cell_type": "code",
   "execution_count": 8,
   "metadata": {},
   "outputs": [
    {
     "data": {
      "text/plain": [
       "((885, 2), (888, 2), (885,), (888,))"
      ]
     },
     "execution_count": 8,
     "metadata": {},
     "output_type": "execute_result"
    }
   ],
   "source": [
    "Xtrain.shape, Xval.shape, ytrain.shape, yval.shape"
   ]
  },
  {
   "cell_type": "markdown",
   "metadata": {},
   "source": [
    "# Text Features"
   ]
  },
  {
   "cell_type": "code",
   "execution_count": 9,
   "metadata": {},
   "outputs": [],
   "source": [
    "titleTrain = dfRaw[maskTrain]['Title']\n",
    "titleVal = dfRaw[maskVal]['Title']\n",
    "\n",
    "titleVec = TfidfVectorizer(min_df=4, ngram_range=(1,2))\n",
    "titleBowTrain = titleVec.fit_transform(titleTrain)\n",
    "titleBowVal = titleVec.transform(titleVal)"
   ]
  },
  {
   "cell_type": "code",
   "execution_count": 10,
   "metadata": {},
   "outputs": [
    {
     "data": {
      "text/plain": [
       "(885, 495)"
      ]
     },
     "execution_count": 10,
     "metadata": {},
     "output_type": "execute_result"
    }
   ],
   "source": [
    "titleBowTrain.shape"
   ]
  },
  {
   "cell_type": "code",
   "execution_count": 11,
   "metadata": {},
   "outputs": [
    {
     "data": {
      "text/plain": [
       "<885x495 sparse matrix of type '<class 'numpy.float64'>'\n",
       "\twith 8627 stored elements in Compressed Sparse Row format>"
      ]
     },
     "execution_count": 11,
     "metadata": {},
     "output_type": "execute_result"
    }
   ],
   "source": [
    "titleBowTrain"
   ]
  },
  {
   "cell_type": "code",
   "execution_count": 12,
   "metadata": {},
   "outputs": [],
   "source": [
    "XtrainWTitle = hstack([Xtrain, titleBowTrain])\n",
    "XvalWTitle = hstack([Xval, titleBowVal])"
   ]
  },
  {
   "cell_type": "code",
   "execution_count": 13,
   "metadata": {},
   "outputs": [
    {
     "data": {
      "text/plain": [
       "((885, 497), (888, 497))"
      ]
     },
     "execution_count": 13,
     "metadata": {},
     "output_type": "execute_result"
    }
   ],
   "source": [
    "XtrainWTitle.shape, XvalWTitle.shape"
   ]
  },
  {
   "cell_type": "markdown",
   "metadata": {},
   "source": [
    "# Model"
   ]
  },
  {
   "cell_type": "markdown",
   "metadata": {},
   "source": [
    "## RandomForestClassifier"
   ]
  },
  {
   "cell_type": "code",
   "execution_count": 87,
   "metadata": {},
   "outputs": [
    {
     "data": {
      "text/plain": [
       "RandomForestClassifier(class_weight='balanced', min_samples_leaf=5,\n",
       "                       n_estimators=1500, n_jobs=-1, random_state=0)"
      ]
     },
     "execution_count": 87,
     "metadata": {},
     "output_type": "execute_result"
    }
   ],
   "source": [
    "rf = RandomForestClassifier(n_estimators=1500, random_state=0, min_samples_leaf=5, class_weight='balanced', n_jobs=-1)\n",
    "rf.fit(XtrainWTitle, ytrain)"
   ]
  },
  {
   "cell_type": "code",
   "execution_count": 88,
   "metadata": {},
   "outputs": [],
   "source": [
    "pRf = rf.predict_proba(XvalWTitle)[:,1]"
   ]
  },
  {
   "cell_type": "markdown",
   "metadata": {},
   "source": [
    "### Model Evaluate "
   ]
  },
  {
   "cell_type": "code",
   "execution_count": 89,
   "metadata": {},
   "outputs": [
    {
     "name": "stdout",
     "output_type": "stream",
     "text": [
      "ap: 0.3844695160599161, auc: 0.7792372881355933\n"
     ]
    }
   ],
   "source": [
    "print(f'ap: {average_precision_score(yval, pRf)}, auc: {roc_auc_score(yval, pRf)}')"
   ]
  },
  {
   "cell_type": "code",
   "execution_count": 19,
   "metadata": {},
   "outputs": [],
   "source": [
    "# ap: 0.3521564476834772, auc: 0.7758089368258859 | min_samples_leaf=1\n",
    "# ap: 0.3843011851670597, auc: 0.7815540391811577 | min_samples_leaf=2\n",
    "# ap: 0.38551950447476385, auc: 0.7831168831168831 | n_estimators=1500\n",
    "# ap: 0.40864867634952645, auc: 0.7861765353290777 | min_df=3\n",
    "# ap: 0.4138684826920506, auc: 0.784668721109399 | ngram_range = (1,2)\n",
    "# ap: 0.425697264360267, auc: 0.7845256438476778 | min_df=4 & ngram_range = (1,2)"
   ]
  },
  {
   "cell_type": "markdown",
   "metadata": {},
   "source": [
    "### Bayesian Optimization"
   ]
  },
  {
   "cell_type": "code",
   "execution_count": 92,
   "metadata": {
    "collapsed": true,
    "jupyter": {
     "outputs_hidden": true
    }
   },
   "outputs": [
    {
     "name": "stdout",
     "output_type": "stream",
     "text": [
      "Iteration No: 1 started. Evaluating function at random point.\n",
      "[5, 16, 771, 1, 3]\n",
      "0.7517499449702839\n",
      "Iteration No: 1 ended. Evaluation done at random point.\n",
      "Time taken: 3.7798\n",
      "Function value obtained: -0.3635\n",
      "Current minimum: -0.3635\n",
      "Iteration No: 2 started. Evaluating function at random point.\n",
      "[8, 9, 272, 3, 1]\n",
      "0.7781642086726832\n",
      "Iteration No: 2 ended. Evaluation done at random point.\n",
      "Time taken: 1.3968\n",
      "Function value obtained: -0.3853\n",
      "Current minimum: -0.3853\n",
      "Iteration No: 3 started. Evaluating function at random point.\n",
      "[2, 10, 804, 3, 4]\n",
      "0.7796830288355712\n",
      "Iteration No: 3 ended. Evaluation done at random point.\n",
      "Time taken: 3.8756\n",
      "Function value obtained: -0.3817\n",
      "Current minimum: -0.3853\n",
      "Iteration No: 4 started. Evaluating function at random point.\n",
      "[6, 2, 110, 4, 5]\n",
      "0.7944034778780541\n",
      "Iteration No: 4 ended. Evaluation done at random point.\n",
      "Time taken: 0.6096\n",
      "Function value obtained: -0.4139\n",
      "Current minimum: -0.4139\n",
      "Iteration No: 5 started. Evaluating function at random point.\n",
      "[6, 20, 783, 1, 4]\n",
      "0.7590799031476998\n",
      "Iteration No: 5 ended. Evaluation done at random point.\n",
      "Time taken: 3.2652\n",
      "Function value obtained: -0.4043\n",
      "Current minimum: -0.4139\n",
      "Iteration No: 6 started. Evaluating function at random point.\n",
      "[9, 9, 605, 1, 2]\n",
      "0.7718137794408981\n",
      "Iteration No: 6 ended. Evaluation done at random point.\n",
      "Time taken: 2.4734\n",
      "Function value obtained: -0.3849\n",
      "Current minimum: -0.4139\n",
      "Iteration No: 7 started. Evaluating function at random point.\n",
      "[10, 13, 493, 1, 3]\n",
      "0.7614516839093111\n",
      "Iteration No: 7 ended. Evaluation done at random point.\n",
      "Time taken: 2.1930\n",
      "Function value obtained: -0.3651\n",
      "Current minimum: -0.4139\n",
      "Iteration No: 8 started. Evaluating function at random point.\n",
      "[5, 12, 753, 1, 5]\n",
      "0.7411567246313009\n",
      "Iteration No: 8 ended. Evaluation done at random point.\n",
      "Time taken: 3.1366\n",
      "Function value obtained: -0.3358\n",
      "Current minimum: -0.4139\n",
      "Iteration No: 9 started. Evaluating function at random point.\n",
      "[10, 19, 588, 2, 5]\n",
      "0.7787640325775917\n",
      "Iteration No: 9 ended. Evaluation done at random point.\n",
      "Time taken: 2.5059\n",
      "Function value obtained: -0.4085\n",
      "Current minimum: -0.4139\n",
      "Iteration No: 10 started. Evaluating function at random point.\n",
      "[5, 8, 406, 5, 3]\n",
      "0.7924994497028395\n",
      "Iteration No: 10 ended. Evaluation done at random point.\n",
      "Time taken: 1.9035\n",
      "Function value obtained: -0.4081\n",
      "Current minimum: -0.4139\n",
      "Iteration No: 11 started. Evaluating function at random point.\n",
      "[10, 1, 803, 1, 2]\n",
      "0.7895608628659476\n",
      "Iteration No: 11 ended. Evaluation done at random point.\n",
      "Time taken: 3.3444\n",
      "Function value obtained: -0.4248\n",
      "Current minimum: -0.4248\n",
      "Iteration No: 12 started. Evaluating function at random point.\n",
      "[1, 8, 529, 3, 4]\n",
      "0.7711974466211754\n",
      "Iteration No: 12 ended. Evaluation done at random point.\n",
      "Time taken: 2.2678\n",
      "Function value obtained: -0.3758\n",
      "Current minimum: -0.4248\n",
      "Iteration No: 13 started. Evaluating function at random point.\n",
      "[8, 19, 189, 5, 3]\n",
      "0.7899130530486462\n",
      "Iteration No: 13 ended. Evaluation done at random point.\n",
      "Time taken: 0.8411\n",
      "Function value obtained: -0.4281\n",
      "Current minimum: -0.4281\n",
      "Iteration No: 14 started. Evaluating function at random point.\n",
      "[6, 18, 374, 4, 1]\n",
      "0.7778780541492406\n",
      "Iteration No: 14 ended. Evaluation done at random point.\n",
      "Time taken: 1.6493\n",
      "Function value obtained: -0.4176\n",
      "Current minimum: -0.4281\n",
      "Iteration No: 15 started. Evaluating function at random point.\n",
      "[7, 8, 871, 5, 3]\n",
      "0.7910081443979748\n",
      "Iteration No: 15 ended. Evaluation done at random point.\n",
      "Time taken: 4.1653\n",
      "Function value obtained: -0.4067\n",
      "Current minimum: -0.4281\n",
      "Iteration No: 16 started. Evaluating function at random point.\n",
      "[3, 2, 449, 5, 2]\n",
      "0.778995157384988\n",
      "Iteration No: 16 ended. Evaluation done at random point.\n",
      "Time taken: 1.9997\n",
      "Function value obtained: -0.3833\n",
      "Current minimum: -0.4281\n",
      "Iteration No: 17 started. Evaluating function at random point.\n",
      "[2, 14, 138, 5, 3]\n",
      "0.7751045564604886\n",
      "Iteration No: 17 ended. Evaluation done at random point.\n",
      "Time taken: 0.7641\n",
      "Function value obtained: -0.3841\n",
      "Current minimum: -0.4281\n",
      "Iteration No: 18 started. Evaluating function at random point.\n",
      "[1, 9, 487, 4, 5]\n",
      "0.7735031917235308\n",
      "Iteration No: 18 ended. Evaluation done at random point.\n",
      "Time taken: 2.2205\n",
      "Function value obtained: -0.4044\n",
      "Current minimum: -0.4281\n",
      "Iteration No: 19 started. Evaluating function at random point.\n",
      "[6, 9, 577, 5, 2]\n",
      "0.7894067796610169\n",
      "Iteration No: 19 ended. Evaluation done at random point.\n",
      "Time taken: 2.4776\n",
      "Function value obtained: -0.3921\n",
      "Current minimum: -0.4281\n",
      "Iteration No: 20 started. Evaluating function at random point.\n",
      "[10, 5, 523, 3, 5]\n",
      "0.7921142416905129\n",
      "Iteration No: 20 ended. Evaluation done at random point.\n",
      "Time taken: 2.8463\n",
      "Function value obtained: -0.4021\n",
      "Current minimum: -0.4281\n",
      "Iteration No: 21 started. Searching for the next optimal point.\n",
      "[6, 19, 976, 2, 3]\n",
      "0.7756328417345366\n",
      "Iteration No: 21 ended. Search finished for the next optimal point.\n",
      "Time taken: 4.3913\n",
      "Function value obtained: -0.3994\n",
      "Current minimum: -0.4281\n",
      "Iteration No: 22 started. Searching for the next optimal point.\n",
      "[6, 19, 164, 1, 4]\n",
      "0.678483381025754\n",
      "Iteration No: 22 ended. Search finished for the next optimal point.\n",
      "Time taken: 1.5515\n",
      "Function value obtained: -0.3568\n",
      "Current minimum: -0.4281\n",
      "Iteration No: 23 started. Searching for the next optimal point.\n",
      "[10, 2, 936, 1, 5]\n",
      "0.7702179176755448\n",
      "Iteration No: 23 ended. Search finished for the next optimal point.\n",
      "Time taken: 4.8191\n",
      "Function value obtained: -0.3851\n",
      "Current minimum: -0.4281\n",
      "Iteration No: 24 started. Searching for the next optimal point.\n",
      "[8, 1, 897, 1, 5]\n",
      "0.7779716046665198\n",
      "Iteration No: 24 ended. Search finished for the next optimal point.\n",
      "Time taken: 4.5454\n",
      "Function value obtained: -0.3841\n",
      "Current minimum: -0.4281\n",
      "Iteration No: 25 started. Searching for the next optimal point.\n",
      "[6, 20, 242, 2, 4]\n",
      "0.7715386308606647\n",
      "Iteration No: 25 ended. Search finished for the next optimal point.\n",
      "Time taken: 1.5347\n",
      "Function value obtained: -0.4066\n",
      "Current minimum: -0.4281\n",
      "Iteration No: 26 started. Searching for the next optimal point.\n",
      "[6, 1, 847, 1, 1]\n",
      "0.7764142637023992\n",
      "Iteration No: 26 ended. Search finished for the next optimal point.\n",
      "Time taken: 3.9369\n",
      "Function value obtained: -0.3817\n",
      "Current minimum: -0.4281\n",
      "Iteration No: 27 started. Searching for the next optimal point.\n",
      "[9, 17, 149, 5, 3]\n",
      "0.7888289676425269\n",
      "Iteration No: 27 ended. Search finished for the next optimal point.\n",
      "Time taken: 1.2036\n",
      "Function value obtained: -0.4230\n",
      "Current minimum: -0.4281\n",
      "Iteration No: 28 started. Searching for the next optimal point.\n",
      "[8, 16, 113, 5, 1]\n",
      "0.7765518379925159\n",
      "Iteration No: 28 ended. Search finished for the next optimal point.\n",
      "Time taken: 1.0077\n",
      "Function value obtained: -0.4093\n",
      "Current minimum: -0.4281\n",
      "Iteration No: 29 started. Searching for the next optimal point.\n",
      "[8, 17, 141, 5, 1]\n",
      "0.7800627338762932\n",
      "Iteration No: 29 ended. Search finished for the next optimal point.\n",
      "Time taken: 1.1027\n",
      "Function value obtained: -0.4062\n",
      "Current minimum: -0.4281\n",
      "Iteration No: 30 started. Searching for the next optimal point.\n",
      "[6, 17, 148, 5, 3]\n",
      "0.7898635263042044\n",
      "Iteration No: 30 ended. Search finished for the next optimal point.\n",
      "Time taken: 1.2325\n",
      "Function value obtained: -0.4114\n",
      "Current minimum: -0.4281\n",
      "Iteration No: 31 started. Searching for the next optimal point.\n",
      "[5, 17, 888, 4, 5]\n",
      "0.789571868809157\n",
      "Iteration No: 31 ended. Search finished for the next optimal point.\n",
      "Time taken: 4.3310\n",
      "Function value obtained: -0.4199\n",
      "Current minimum: -0.4281\n",
      "Iteration No: 32 started. Searching for the next optimal point.\n",
      "[5, 18, 724, 3, 5]\n",
      "0.7854666519920757\n",
      "Iteration No: 32 ended. Search finished for the next optimal point.\n",
      "Time taken: 3.4064\n",
      "Function value obtained: -0.4220\n",
      "Current minimum: -0.4281\n",
      "Iteration No: 33 started. Searching for the next optimal point.\n",
      "[5, 18, 608, 3, 5]\n",
      "0.7854116222760291\n",
      "Iteration No: 33 ended. Search finished for the next optimal point.\n",
      "Time taken: 3.1264\n",
      "Function value obtained: -0.4279\n",
      "Current minimum: -0.4281\n",
      "Iteration No: 34 started. Searching for the next optimal point.\n",
      "[4, 15, 898, 3, 5]\n",
      "0.7871010345586618\n",
      "Iteration No: 34 ended. Search finished for the next optimal point.\n",
      "Time taken: 4.3213\n",
      "Function value obtained: -0.4112\n",
      "Current minimum: -0.4281\n",
      "Iteration No: 35 started. Searching for the next optimal point.\n",
      "[5, 18, 687, 3, 4]\n",
      "0.7853015628439356\n",
      "Iteration No: 35 ended. Search finished for the next optimal point.\n",
      "Time taken: 3.4222\n",
      "Function value obtained: -0.3977\n",
      "Current minimum: -0.4281\n",
      "Iteration No: 36 started. Searching for the next optimal point.\n",
      "[2, 18, 610, 3, 5]\n",
      "0.788366718027735\n",
      "Iteration No: 36 ended. Search finished for the next optimal point.\n",
      "Time taken: 3.0486\n",
      "Function value obtained: -0.4228\n",
      "Current minimum: -0.4281\n",
      "Iteration No: 37 started. Searching for the next optimal point.\n",
      "[2, 18, 476, 3, 5]\n",
      "0.7838212634822802\n",
      "Iteration No: 37 ended. Search finished for the next optimal point.\n",
      "Time taken: 2.5662\n",
      "Function value obtained: -0.4131\n",
      "Current minimum: -0.4281\n",
      "Iteration No: 38 started. Searching for the next optimal point.\n",
      "[2, 15, 623, 3, 5]\n",
      "0.7899790887079022\n",
      "Iteration No: 38 ended. Search finished for the next optimal point.\n",
      "Time taken: 3.1612\n",
      "Function value obtained: -0.4080\n",
      "Current minimum: -0.4281\n",
      "Iteration No: 39 started. Searching for the next optimal point.\n",
      "[3, 19, 817, 5, 5]\n",
      "0.786468192824125\n",
      "Iteration No: 39 ended. Search finished for the next optimal point.\n",
      "Time taken: 3.9569\n",
      "Function value obtained: -0.4024\n",
      "Current minimum: -0.4281\n",
      "Iteration No: 40 started. Searching for the next optimal point.\n",
      "[10, 18, 201, 3, 3]\n",
      "0.7757484041382346\n",
      "Iteration No: 40 ended. Search finished for the next optimal point.\n",
      "Time taken: 1.4488\n",
      "Function value obtained: -0.3988\n",
      "Current minimum: -0.4281\n",
      "Iteration No: 41 started. Searching for the next optimal point.\n",
      "[5, 14, 955, 3, 5]\n",
      "0.7879154743561523\n",
      "Iteration No: 41 ended. Search finished for the next optimal point.\n",
      "Time taken: 4.6664\n",
      "Function value obtained: -0.4057\n",
      "Current minimum: -0.4281\n",
      "Iteration No: 42 started. Searching for the next optimal point.\n",
      "[5, 18, 147, 5, 4]\n",
      "0.7808276469293418\n",
      "Iteration No: 42 ended. Search finished for the next optimal point.\n",
      "Time taken: 1.2241\n",
      "Function value obtained: -0.4095\n",
      "Current minimum: -0.4281\n",
      "Iteration No: 43 started. Searching for the next optimal point.\n",
      "[4, 1, 803, 1, 1]\n",
      "0.7672848338102575\n",
      "Iteration No: 43 ended. Search finished for the next optimal point.\n",
      "Time taken: 3.8571\n",
      "Function value obtained: -0.3718\n",
      "Current minimum: -0.4281\n",
      "Iteration No: 44 started. Searching for the next optimal point.\n",
      "[5, 19, 708, 2, 5]\n",
      "0.77640325775919\n",
      "Iteration No: 44 ended. Search finished for the next optimal point.\n",
      "Time taken: 3.6532\n",
      "Function value obtained: -0.4045\n",
      "Current minimum: -0.4281\n",
      "Iteration No: 45 started. Searching for the next optimal point.\n",
      "[10, 15, 810, 1, 5]\n",
      "0.7454380365397314\n",
      "Iteration No: 45 ended. Search finished for the next optimal point.\n",
      "Time taken: 4.0324\n",
      "Function value obtained: -0.3455\n",
      "Current minimum: -0.4281\n",
      "Iteration No: 46 started. Searching for the next optimal point.\n",
      "[8, 20, 531, 5, 3]\n",
      "0.7906724631300901\n",
      "Iteration No: 46 ended. Search finished for the next optimal point.\n",
      "Time taken: 2.7694\n",
      "Function value obtained: -0.4180\n",
      "Current minimum: -0.4281\n",
      "Iteration No: 47 started. Searching for the next optimal point.\n",
      "[1, 19, 639, 4, 3]\n",
      "0.7791492405899185\n",
      "Iteration No: 47 ended. Search finished for the next optimal point.\n",
      "Time taken: 3.0490\n",
      "Function value obtained: -0.4196\n",
      "Current minimum: -0.4281\n",
      "Iteration No: 48 started. Searching for the next optimal point.\n",
      "[1, 20, 213, 4, 3]\n",
      "0.7783292978208233\n",
      "Iteration No: 48 ended. Search finished for the next optimal point.\n",
      "Time taken: 1.4484\n",
      "Function value obtained: -0.4159\n",
      "Current minimum: -0.4281\n",
      "Iteration No: 49 started. Searching for the next optimal point.\n",
      "[2, 16, 276, 4, 3]\n",
      "0.7887629319832711\n",
      "Iteration No: 49 ended. Search finished for the next optimal point.\n",
      "Time taken: 1.7525\n",
      "Function value obtained: -0.4149\n",
      "Current minimum: -0.4281\n",
      "Iteration No: 50 started. Searching for the next optimal point.\n",
      "[5, 19, 175, 3, 5]\n",
      "0.7804039181157825\n",
      "Iteration No: 50 ended. Search finished for the next optimal point.\n",
      "Time taken: 1.3636\n",
      "Function value obtained: -0.4186\n",
      "Current minimum: -0.4281\n"
     ]
    }
   ],
   "source": [
    "def tuneRf(params):\n",
    "    print(params)\n",
    "    max_depth = params[0]\n",
    "    min_samples_leaf = params[1]\n",
    "    n_estimators = params[2]\n",
    "    min_df = params[3]\n",
    "    ngram_range = (1, params[4])\n",
    "    \n",
    "    titleVec = TfidfVectorizer(min_df=min_df, ngram_range=ngram_range)\n",
    "    titleBowTrain = titleVec.fit_transform(titleTrain)\n",
    "    titleBowVal = titleVec.transform(titleVal)\n",
    "    \n",
    "    XtrainWTitle = hstack([Xtrain, titleBowTrain])\n",
    "    XvalWTitle = hstack([Xval, titleBowVal])\n",
    "    \n",
    "    model = RandomForestClassifier(n_estimators=n_estimators, max_depth=max_depth, min_samples_leaf=min_samples_leaf, random_state=0,\n",
    "                                   class_weight='balanced', n_jobs=-1)\n",
    "    \n",
    "    model.fit(XtrainWTitle, ytrain)\n",
    "    \n",
    "    p = model.predict_proba(XvalWTitle)[:,1]\n",
    "    \n",
    "    print(roc_auc_score(yval, p))\n",
    "    \n",
    "    return -average_precision_score(yval,p)\n",
    "\n",
    "\n",
    "\n",
    "space = [(1, 10), #max_depth\n",
    "        (1, 20), #min_samples_leaf \n",
    "        (100, 1000), #n_estimetors\n",
    "        (1, 5), #min_df\n",
    "        (1, 5)] #ngram_range\n",
    "\n",
    "\n",
    "\n",
    "result = forest_minimize(tuneRf, space, random_state=160745, n_random_starts=20, n_calls=50, verbose=1)"
   ]
  },
  {
   "cell_type": "code",
   "execution_count": 93,
   "metadata": {},
   "outputs": [
    {
     "data": {
      "text/plain": [
       "[8, 19, 189, 5, 3]"
      ]
     },
     "execution_count": 93,
     "metadata": {},
     "output_type": "execute_result"
    }
   ],
   "source": [
    "result.x"
   ]
  },
  {
   "cell_type": "markdown",
   "metadata": {},
   "source": [
    "### Model With Hyperparameter Tuning"
   ]
  },
  {
   "cell_type": "code",
   "execution_count": 310,
   "metadata": {},
   "outputs": [
    {
     "name": "stdout",
     "output_type": "stream",
     "text": [
      "ap: 0.43734417259145686, auc: 0.788895003301783\n"
     ]
    }
   ],
   "source": [
    "params = [8, #max_depth\n",
    " 19, #min_samples_leaf \n",
    " 840, #n_estimetors\n",
    " 3,#min_df\n",
    " 5] #ngram_range\n",
    "\n",
    "\n",
    "max_depth = params[0]\n",
    "min_samples_leaf = params[1]\n",
    "n_estimators = params[2]\n",
    "min_df = params[3]\n",
    "ngram_range = (1, params[4])\n",
    "\n",
    "\n",
    "titleVec = TfidfVectorizer(min_df=min_df, ngram_range=ngram_range)\n",
    "titleBowTrain = titleVec.fit_transform(titleTrain)\n",
    "titleBowVal = titleVec.transform(titleVal)\n",
    "\n",
    "XtrainWTitle = hstack([Xtrain, titleBowTrain])\n",
    "XvalWTitle = hstack([Xval, titleBowVal])\n",
    "\n",
    "modelRf = RandomForestClassifier(n_estimators=n_estimators, max_depth=max_depth, min_samples_leaf=min_samples_leaf, random_state=0,\n",
    "                               class_weight='balanced', n_jobs=-1)\n",
    "\n",
    "modelRf.fit(XtrainWTitle, ytrain)\n",
    "\n",
    "pRf = modelRf.predict_proba(XvalWTitle)[:,1]\n",
    "\n",
    "\n",
    "print(f'ap: {average_precision_score(yval,pRf)}, auc: {roc_auc_score(yval, pRf)}')"
   ]
  },
  {
   "cell_type": "markdown",
   "metadata": {},
   "source": [
    "## LGBMClassifier"
   ]
  },
  {
   "cell_type": "code",
   "execution_count": 20,
   "metadata": {},
   "outputs": [
    {
     "data": {
      "text/plain": [
       "LGBMClassifier(class_weight='balanced', random_state=0)"
      ]
     },
     "execution_count": 20,
     "metadata": {},
     "output_type": "execute_result"
    }
   ],
   "source": [
    "modelLGBM = LGBMClassifier(random_state=0, class_weight='balanced', n_jobs=-1)\n",
    "modelLGBM.fit(XtrainWTitle, ytrain)"
   ]
  },
  {
   "cell_type": "code",
   "execution_count": 21,
   "metadata": {},
   "outputs": [],
   "source": [
    "pLGBM = modelLGBM.predict_proba(XvalWTitle)[:,1]"
   ]
  },
  {
   "cell_type": "markdown",
   "metadata": {},
   "source": [
    "### Model Evaluate "
   ]
  },
  {
   "cell_type": "code",
   "execution_count": 22,
   "metadata": {},
   "outputs": [
    {
     "name": "stdout",
     "output_type": "stream",
     "text": [
      "ap: 0.3613860826479734, auc: 0.7497248514197665\n"
     ]
    }
   ],
   "source": [
    "print(f'ap: {average_precision_score(yval,pLGBM)}, auc: {roc_auc_score(yval, pLGBM)}')"
   ]
  },
  {
   "cell_type": "markdown",
   "metadata": {},
   "source": [
    "### Bayesian Optimization"
   ]
  },
  {
   "cell_type": "code",
   "execution_count": 240,
   "metadata": {
    "collapsed": true,
    "jupyter": {
     "outputs_hidden": true
    }
   },
   "outputs": [
    {
     "name": "stdout",
     "output_type": "stream",
     "text": [
      "Iteration No: 1 started. Evaluating function at random point.\n",
      "[0.009944912110647982, 5, 1, 0.4677107511929402, 0.49263223036174764, 272, 3, 1]\n",
      "[LightGBM] [Warning] bagging_freq is set=1, subsample_freq=0 will be ignored. Current value: bagging_freq=1\n",
      "0.7713295179396874\n",
      "Iteration No: 1 ended. Evaluation done at random point.\n",
      "Time taken: 0.6183\n",
      "Function value obtained: -0.3746\n",
      "Current minimum: -0.3746\n",
      "Iteration No: 2 started. Evaluating function at random point.\n",
      "[0.053887464791860025, 1, 15, 0.7437489153990157, 0.8675167974293533, 549, 3, 4]\n",
      "[LightGBM] [Warning] bagging_freq is set=1, subsample_freq=0 will be ignored. Current value: bagging_freq=1\n",
      "0.7705040721989873\n",
      "Iteration No: 2 ended. Evaluation done at random point.\n",
      "Time taken: 0.2485\n",
      "Function value obtained: -0.3512\n",
      "Current minimum: -0.3746\n",
      "Iteration No: 3 started. Evaluating function at random point.\n",
      "[0.004151454520895999, 6, 20, 0.8682075103820793, 0.9491436163200662, 411, 4, 3]\n",
      "[LightGBM] [Warning] bagging_freq is set=1, subsample_freq=0 will be ignored. Current value: bagging_freq=1\n",
      "0.7800187101034559\n",
      "Iteration No: 3 ended. Evaluation done at random point.\n",
      "Time taken: 0.3840\n",
      "Function value obtained: -0.3856\n",
      "Current minimum: -0.3856\n",
      "Iteration No: 4 started. Evaluating function at random point.\n",
      "[0.0014099928811969545, 9, 9, 0.6502182010234373, 0.6866210554187129, 828, 5, 2]\n",
      "[LightGBM] [Warning] bagging_freq is set=1, subsample_freq=0 will be ignored. Current value: bagging_freq=1\n",
      "0.7812788906009246\n",
      "Iteration No: 4 ended. Evaluation done at random point.\n",
      "Time taken: 1.3185\n",
      "Function value obtained: -0.3764\n",
      "Current minimum: -0.3856\n",
      "Iteration No: 5 started. Evaluating function at random point.\n",
      "[0.08530558241838007, 8, 19, 0.2137736299768322, 0.1313765544201984, 961, 4, 1]\n",
      "[LightGBM] [Warning] bagging_freq is set=1, subsample_freq=0 will be ignored. Current value: bagging_freq=1\n",
      "0.6443869689632402\n",
      "Iteration No: 5 ended. Evaluation done at random point.\n",
      "Time taken: 0.5720\n",
      "Function value obtained: -0.2752\n",
      "Current minimum: -0.3856\n",
      "Iteration No: 6 started. Evaluating function at random point.\n",
      "[0.003567949451535685, 10, 19, 0.7232951768944309, 0.7298538828427115, 939, 4, 3]\n",
      "[LightGBM] [Warning] bagging_freq is set=1, subsample_freq=0 will be ignored. Current value: bagging_freq=1\n",
      "0.7767774598283074\n",
      "Iteration No: 6 ended. Evaluation done at random point.\n",
      "Time taken: 1.1938\n",
      "Function value obtained: -0.3694\n",
      "Current minimum: -0.3856\n",
      "Iteration No: 7 started. Evaluating function at random point.\n",
      "[0.014828577273549474, 7, 1, 0.18428087097824575, 0.3261556557915816, 274, 1, 2]\n",
      "[LightGBM] [Warning] bagging_freq is set=1, subsample_freq=0 will be ignored. Current value: bagging_freq=1\n",
      "0.7427030596522122\n",
      "Iteration No: 7 ended. Evaluation done at random point.\n",
      "Time taken: 2.0850\n",
      "Function value obtained: -0.2977\n",
      "Current minimum: -0.3856\n",
      "Iteration No: 8 started. Evaluating function at random point.\n",
      "[0.0015212976972079912, 3, 12, 0.44234694306528044, 0.399351303640462, 272, 3, 5]\n",
      "[LightGBM] [Warning] bagging_freq is set=1, subsample_freq=0 will be ignored. Current value: bagging_freq=1\n",
      "0.7745597622716266\n",
      "Iteration No: 8 ended. Evaluation done at random point.\n",
      "Time taken: 0.4378\n",
      "Function value obtained: -0.3856\n",
      "Current minimum: -0.3856\n",
      "Iteration No: 9 started. Evaluating function at random point.\n",
      "[0.01946212855369041, 9, 18, 0.5235636153223084, 0.6728679300083596, 747, 4, 5]\n",
      "[LightGBM] [Warning] bagging_freq is set=1, subsample_freq=0 will be ignored. Current value: bagging_freq=1\n",
      "0.7432643627558881\n",
      "Iteration No: 9 ended. Evaluation done at random point.\n",
      "Time taken: 0.8713\n",
      "Function value obtained: -0.3272\n",
      "Current minimum: -0.3856\n",
      "Iteration No: 10 started. Evaluating function at random point.\n",
      "[0.0012116790683302117, 3, 2, 0.06616307483844217, 0.23025600705315752, 677, 2, 5]\n",
      "[LightGBM] [Warning] bagging_freq is set=1, subsample_freq=0 will be ignored. Current value: bagging_freq=1\n",
      "0.7522452124147039\n",
      "Iteration No: 10 ended. Evaluation done at random point.\n",
      "Time taken: 1.8349\n",
      "Function value obtained: -0.3906\n",
      "Current minimum: -0.3906\n",
      "Iteration No: 11 started. Evaluating function at random point.\n",
      "[0.0053139776214487944, 6, 9, 0.14251441334450304, 0.8175761405215897, 297, 1, 5]\n",
      "[LightGBM] [Warning] bagging_freq is set=1, subsample_freq=0 will be ignored. Current value: bagging_freq=1\n",
      "0.7482335461149019\n",
      "Iteration No: 11 ended. Evaluation done at random point.\n",
      "Time taken: 0.5777\n",
      "Function value obtained: -0.3523\n",
      "Current minimum: -0.3906\n",
      "Iteration No: 12 started. Evaluating function at random point.\n",
      "[0.0068572961982704935, 10, 5, 0.2390386584472456, 0.49053406102209746, 176, 2, 4]\n",
      "[LightGBM] [Warning] bagging_freq is set=1, subsample_freq=0 will be ignored. Current value: bagging_freq=1\n",
      "0.7520581113801454\n",
      "Iteration No: 12 ended. Evaluation done at random point.\n",
      "Time taken: 0.7082\n",
      "Function value obtained: -0.3451\n",
      "Current minimum: -0.3906\n",
      "Iteration No: 13 started. Evaluating function at random point.\n",
      "[0.00781968225875022, 3, 4, 0.7078936710077383, 0.31818755505678337, 275, 4, 4]\n",
      "[LightGBM] [Warning] bagging_freq is set=1, subsample_freq=0 will be ignored. Current value: bagging_freq=1\n",
      "0.7733711204050187\n",
      "Iteration No: 13 ended. Evaluation done at random point.\n",
      "Time taken: 0.4009\n",
      "Function value obtained: -0.3810\n",
      "Current minimum: -0.3906\n",
      "Iteration No: 14 started. Evaluating function at random point.\n",
      "[0.017293945600511968, 2, 15, 0.9007557574888567, 0.41026441194439994, 316, 5, 1]\n",
      "[LightGBM] [Warning] bagging_freq is set=1, subsample_freq=0 will be ignored. Current value: bagging_freq=1\n",
      "0.7704435395113362\n",
      "Iteration No: 14 ended. Evaluation done at random point.\n",
      "Time taken: 0.2219\n",
      "Function value obtained: -0.3775\n",
      "Current minimum: -0.3906\n",
      "Iteration No: 15 started. Evaluating function at random point.\n",
      "[0.012250750764764855, 8, 6, 0.5976582413192033, 0.2474882432951916, 516, 4, 4]\n",
      "[LightGBM] [Warning] bagging_freq is set=1, subsample_freq=0 will be ignored. Current value: bagging_freq=1\n",
      "0.7757208892802112\n",
      "Iteration No: 15 ended. Evaluation done at random point.\n",
      "Time taken: 0.8612\n",
      "Function value obtained: -0.3727\n",
      "Current minimum: -0.3906\n",
      "Iteration No: 16 started. Evaluating function at random point.\n",
      "[0.018353598126553926, 4, 3, 0.47305622526323254, 0.1404164811277527, 133, 4, 1]\n",
      "[LightGBM] [Warning] bagging_freq is set=1, subsample_freq=0 will be ignored. Current value: bagging_freq=1\n",
      "0.7598558221439577\n",
      "Iteration No: 16 ended. Evaluation done at random point.\n",
      "Time taken: 0.3002\n",
      "Function value obtained: -0.3438\n",
      "Current minimum: -0.3906\n",
      "Iteration No: 17 started. Evaluating function at random point.\n",
      "[0.0010383234748454694, 9, 19, 0.9256771571832196, 0.9321438677645206, 312, 4, 3]\n",
      "[LightGBM] [Warning] bagging_freq is set=1, subsample_freq=0 will be ignored. Current value: bagging_freq=1\n",
      "0.7719018269865727\n",
      "Iteration No: 17 ended. Evaluation done at random point.\n",
      "Time taken: 0.4836\n",
      "Function value obtained: -0.3860\n",
      "Current minimum: -0.3906\n",
      "Iteration No: 18 started. Evaluating function at random point.\n",
      "[0.004955229758078229, 5, 5, 0.06939551310802591, 0.4193273080472823, 725, 4, 1]\n",
      "[LightGBM] [Warning] bagging_freq is set=1, subsample_freq=0 will be ignored. Current value: bagging_freq=1\n",
      "0.7094541052168171\n",
      "Iteration No: 18 ended. Evaluation done at random point.\n",
      "Time taken: 0.7231\n",
      "Function value obtained: -0.3583\n",
      "Current minimum: -0.3906\n",
      "Iteration No: 19 started. Evaluating function at random point.\n",
      "[0.0699516121742407, 9, 10, 0.6477856515609233, 0.8594430701440198, 616, 1, 1]\n",
      "[LightGBM] [Warning] bagging_freq is set=1, subsample_freq=0 will be ignored. Current value: bagging_freq=1\n",
      "0.7317631521021353\n",
      "Iteration No: 19 ended. Evaluation done at random point.\n",
      "Time taken: 0.8373\n",
      "Function value obtained: -0.3107\n",
      "Current minimum: -0.3906\n",
      "Iteration No: 20 started. Evaluating function at random point.\n",
      "[0.0014752743467850462, 5, 4, 0.9747950537021096, 0.982207187458162, 909, 2, 4]\n",
      "[LightGBM] [Warning] bagging_freq is set=1, subsample_freq=0 will be ignored. Current value: bagging_freq=1\n",
      "0.7506713625357693\n",
      "Iteration No: 20 ended. Evaluation done at random point.\n",
      "Time taken: 1.3008\n",
      "Function value obtained: -0.3164\n",
      "Current minimum: -0.3906\n",
      "Iteration No: 21 started. Searching for the next optimal point.\n",
      "[0.0015516166698099135, 7, 18, 0.18749963073364717, 0.6256245155101512, 433, 5, 1]\n",
      "[LightGBM] [Warning] bagging_freq is set=1, subsample_freq=0 will be ignored. Current value: bagging_freq=1\n",
      "0.7092780101254677\n",
      "Iteration No: 21 ended. Search finished for the next optimal point.\n",
      "Time taken: 0.5799\n",
      "Function value obtained: -0.3465\n",
      "Current minimum: -0.3906\n",
      "Iteration No: 22 started. Searching for the next optimal point.\n",
      "[0.011584587991181958, 10, 20, 0.8562246117181807, 0.2577370290811061, 174, 5, 3]\n",
      "[LightGBM] [Warning] bagging_freq is set=1, subsample_freq=0 will be ignored. Current value: bagging_freq=1\n",
      "0.7819282412502753\n",
      "Iteration No: 22 ended. Search finished for the next optimal point.\n",
      "Time taken: 0.5268\n",
      "Function value obtained: -0.3663\n",
      "Current minimum: -0.3906\n",
      "Iteration No: 23 started. Searching for the next optimal point.\n",
      "[0.035230817425761216, 1, 12, 0.9868337005698143, 0.3088673129812297, 284, 5, 3]\n",
      "[LightGBM] [Warning] bagging_freq is set=1, subsample_freq=0 will be ignored. Current value: bagging_freq=1\n",
      "0.7672903367818622\n",
      "Iteration No: 23 ended. Search finished for the next optimal point.\n",
      "Time taken: 0.4554\n",
      "Function value obtained: -0.3503\n",
      "Current minimum: -0.3906\n",
      "Iteration No: 24 started. Searching for the next optimal point.\n",
      "[0.0011719768867422022, 3, 20, 0.298182268755055, 0.05728042749221888, 960, 3, 5]\n",
      "[LightGBM] [Warning] bagging_freq is set=1, subsample_freq=0 will be ignored. Current value: bagging_freq=1\n",
      "0.7698217037200088\n",
      "Iteration No: 24 ended. Search finished for the next optimal point.\n",
      "Time taken: 0.9096\n",
      "Function value obtained: -0.4006\n",
      "Current minimum: -0.4006\n",
      "Iteration No: 25 started. Searching for the next optimal point.\n",
      "[0.001097694498059047, 3, 15, 0.10072230522875493, 0.19561260395390823, 660, 1, 5]\n",
      "[LightGBM] [Warning] bagging_freq is set=1, subsample_freq=0 will be ignored. Current value: bagging_freq=1\n",
      "0.6827151661897424\n",
      "Iteration No: 25 ended. Search finished for the next optimal point.\n",
      "Time taken: 0.7983\n",
      "Function value obtained: -0.3194\n",
      "Current minimum: -0.4006\n",
      "Iteration No: 26 started. Searching for the next optimal point.\n",
      "[0.0019574441931429227, 2, 7, 0.11075388234583461, 0.11688508423102786, 956, 3, 5]\n",
      "[LightGBM] [Warning] bagging_freq is set=1, subsample_freq=0 will be ignored. Current value: bagging_freq=1\n",
      "0.7842504952674443\n",
      "Iteration No: 26 ended. Search finished for the next optimal point.\n",
      "Time taken: 1.3317\n",
      "Function value obtained: -0.3978\n",
      "Current minimum: -0.4006\n",
      "Iteration No: 27 started. Searching for the next optimal point.\n",
      "[0.001477438108754858, 3, 10, 0.16137221087324535, 0.19593296243176872, 966, 3, 5]\n",
      "[LightGBM] [Warning] bagging_freq is set=1, subsample_freq=0 will be ignored. Current value: bagging_freq=1\n",
      "0.7806845696676206\n",
      "Iteration No: 27 ended. Search finished for the next optimal point.\n",
      "Time taken: 1.1882\n",
      "Function value obtained: -0.4227\n",
      "Current minimum: -0.4227\n",
      "Iteration No: 28 started. Searching for the next optimal point.\n",
      "[0.0015868932745085498, 3, 8, 0.204286420902765, 0.08964715068233683, 866, 2, 5]\n",
      "[LightGBM] [Warning] bagging_freq is set=1, subsample_freq=0 will be ignored. Current value: bagging_freq=1\n",
      "0.7685780321373541\n",
      "Iteration No: 28 ended. Search finished for the next optimal point.\n",
      "Time taken: 1.3330\n",
      "Function value obtained: -0.3751\n",
      "Current minimum: -0.4227\n",
      "Iteration No: 29 started. Searching for the next optimal point.\n",
      "[0.002819417576260184, 4, 16, 0.3642172028835449, 0.1738753371025086, 952, 3, 4]\n",
      "[LightGBM] [Warning] bagging_freq is set=1, subsample_freq=0 will be ignored. Current value: bagging_freq=1\n",
      "0.7594981289896545\n",
      "Iteration No: 29 ended. Search finished for the next optimal point.\n",
      "Time taken: 1.1871\n",
      "Function value obtained: -0.3703\n",
      "Current minimum: -0.4227\n",
      "Iteration No: 30 started. Searching for the next optimal point.\n",
      "[0.001374801274295025, 10, 4, 0.22905013144293812, 0.19954136222716767, 922, 3, 5]\n",
      "[LightGBM] [Warning] bagging_freq is set=1, subsample_freq=0 will be ignored. Current value: bagging_freq=1\n",
      "0.7749284613691394\n",
      "Iteration No: 30 ended. Search finished for the next optimal point.\n",
      "Time taken: 3.0329\n",
      "Function value obtained: -0.3844\n",
      "Current minimum: -0.4227\n",
      "Iteration No: 31 started. Searching for the next optimal point.\n",
      "[0.00805939219383168, 3, 4, 0.2585010408596497, 0.2361303028827081, 954, 5, 5]\n",
      "[LightGBM] [Warning] bagging_freq is set=1, subsample_freq=0 will be ignored. Current value: bagging_freq=1\n",
      "0.7752036099493728\n",
      "Iteration No: 31 ended. Search finished for the next optimal point.\n",
      "Time taken: 2.0570\n",
      "Function value obtained: -0.3665\n",
      "Current minimum: -0.4227\n",
      "Iteration No: 32 started. Searching for the next optimal point.\n",
      "[0.0010183487120473543, 8, 13, 0.11729475778496079, 0.16982745731767535, 963, 3, 1]\n",
      "[LightGBM] [Warning] bagging_freq is set=1, subsample_freq=0 will be ignored. Current value: bagging_freq=1\n",
      "0.716486902927581\n",
      "Iteration No: 32 ended. Search finished for the next optimal point.\n",
      "Time taken: 0.8202\n",
      "Function value obtained: -0.3257\n",
      "Current minimum: -0.4227\n",
      "Iteration No: 33 started. Searching for the next optimal point.\n",
      "[0.001577181657847308, 2, 10, 0.1348634089185734, 0.22318195055510603, 946, 3, 4]\n",
      "[LightGBM] [Warning] bagging_freq is set=1, subsample_freq=0 will be ignored. Current value: bagging_freq=1\n",
      "0.7791822584195466\n",
      "Iteration No: 33 ended. Search finished for the next optimal point.\n",
      "Time taken: 1.1094\n",
      "Function value obtained: -0.4044\n",
      "Current minimum: -0.4227\n",
      "Iteration No: 34 started. Searching for the next optimal point.\n",
      "[0.001997959295305105, 1, 12, 0.16895795872125735, 0.28907915711557064, 968, 2, 3]\n",
      "[LightGBM] [Warning] bagging_freq is set=1, subsample_freq=0 will be ignored. Current value: bagging_freq=1\n",
      "0.7693704600484262\n",
      "Iteration No: 34 ended. Search finished for the next optimal point.\n",
      "Time taken: 0.9923\n",
      "Function value obtained: -0.3994\n",
      "Current minimum: -0.4227\n",
      "Iteration No: 35 started. Searching for the next optimal point.\n",
      "[0.0016568223725595202, 2, 18, 0.06325719448075796, 0.23130074054595834, 952, 1, 3]\n",
      "[LightGBM] [Warning] bagging_freq is set=1, subsample_freq=0 will be ignored. Current value: bagging_freq=1\n",
      "0.6324069997798811\n",
      "Iteration No: 35 ended. Search finished for the next optimal point.\n",
      "Time taken: 0.8070\n",
      "Function value obtained: -0.2224\n",
      "Current minimum: -0.4227\n",
      "Iteration No: 36 started. Searching for the next optimal point.\n",
      "[0.0013168146017606165, 2, 16, 0.15254654100702367, 0.21234122328653537, 637, 3, 3]\n",
      "[LightGBM] [Warning] bagging_freq is set=1, subsample_freq=0 will be ignored. Current value: bagging_freq=1\n",
      "0.7271241470394012\n",
      "Iteration No: 36 ended. Search finished for the next optimal point.\n",
      "Time taken: 0.7487\n",
      "Function value obtained: -0.3672\n",
      "Current minimum: -0.4227\n",
      "Iteration No: 37 started. Searching for the next optimal point.\n",
      "[0.0012714470466333341, 3, 16, 0.5518641370199713, 0.3882381233582498, 957, 2, 3]\n",
      "[LightGBM] [Warning] bagging_freq is set=1, subsample_freq=0 will be ignored. Current value: bagging_freq=1\n",
      "0.7705040721989874\n",
      "Iteration No: 37 ended. Search finished for the next optimal point.\n",
      "Time taken: 0.9062\n",
      "Function value obtained: -0.3786\n",
      "Current minimum: -0.4227\n",
      "Iteration No: 38 started. Searching for the next optimal point.\n",
      "[0.0011942155595447465, 3, 19, 0.19685171244686472, 0.29634494051797283, 985, 2, 3]\n",
      "[LightGBM] [Warning] bagging_freq is set=1, subsample_freq=0 will be ignored. Current value: bagging_freq=1\n",
      "0.7273167510455646\n",
      "Iteration No: 38 ended. Search finished for the next optimal point.\n",
      "Time taken: 0.9910\n",
      "Function value obtained: -0.3866\n",
      "Current minimum: -0.4227\n",
      "Iteration No: 39 started. Searching for the next optimal point.\n",
      "[0.0014261833150572443, 1, 14, 0.051489577854192975, 0.23842895372573436, 916, 3, 4]\n",
      "[LightGBM] [Warning] bagging_freq is set=1, subsample_freq=0 will be ignored. Current value: bagging_freq=1\n",
      "0.6325390710983931\n",
      "Iteration No: 39 ended. Search finished for the next optimal point.\n",
      "Time taken: 0.7800\n",
      "Function value obtained: -0.2358\n",
      "Current minimum: -0.4227\n",
      "Iteration No: 40 started. Searching for the next optimal point.\n",
      "[0.002195584878408933, 5, 18, 0.09059678607807446, 0.19161013279025618, 929, 4, 5]\n",
      "[LightGBM] [Warning] bagging_freq is set=1, subsample_freq=0 will be ignored. Current value: bagging_freq=1\n",
      "0.6581884217477438\n",
      "Iteration No: 40 ended. Search finished for the next optimal point.\n",
      "Time taken: 0.8411\n",
      "Function value obtained: -0.2529\n",
      "Current minimum: -0.4227\n",
      "Iteration No: 41 started. Searching for the next optimal point.\n",
      "[0.00131188971268959, 2, 11, 0.06018214530898241, 0.5364894065882069, 872, 3, 5]\n",
      "[LightGBM] [Warning] bagging_freq is set=1, subsample_freq=0 will be ignored. Current value: bagging_freq=1\n",
      "0.6874202069117323\n",
      "Iteration No: 41 ended. Search finished for the next optimal point.\n",
      "Time taken: 0.9200\n",
      "Function value obtained: -0.3067\n",
      "Current minimum: -0.4227\n",
      "Iteration No: 42 started. Searching for the next optimal point.\n",
      "[0.0037789367273395476, 2, 2, 0.09808389514933721, 0.2939254745043286, 960, 3, 4]\n",
      "[LightGBM] [Warning] bagging_freq is set=1, subsample_freq=0 will be ignored. Current value: bagging_freq=1\n",
      "0.7786044464010565\n",
      "Iteration No: 42 ended. Search finished for the next optimal point.\n",
      "Time taken: 1.9568\n",
      "Function value obtained: -0.4098\n",
      "Current minimum: -0.4227\n",
      "Iteration No: 43 started. Searching for the next optimal point.\n",
      "[0.0017466167565249224, 4, 10, 0.08757746318405793, 0.15001217982045545, 997, 4, 3]\n",
      "[LightGBM] [Warning] bagging_freq is set=1, subsample_freq=0 will be ignored. Current value: bagging_freq=1\n",
      "0.7264142637023994\n",
      "Iteration No: 43 ended. Search finished for the next optimal point.\n",
      "Time taken: 1.0965\n",
      "Function value obtained: -0.3590\n",
      "Current minimum: -0.4227\n",
      "Iteration No: 44 started. Searching for the next optimal point.\n",
      "[0.0014717237143463753, 2, 10, 0.06831161067412415, 0.178183152144896, 677, 3, 3]\n",
      "[LightGBM] [Warning] bagging_freq is set=1, subsample_freq=0 will be ignored. Current value: bagging_freq=1\n",
      "0.7127503852080124\n",
      "Iteration No: 44 ended. Search finished for the next optimal point.\n",
      "Time taken: 0.8468\n",
      "Function value obtained: -0.3816\n",
      "Current minimum: -0.4227\n",
      "Iteration No: 45 started. Searching for the next optimal point.\n",
      "[0.0013606898270954162, 2, 19, 0.13227255766014812, 0.05407329697655785, 962, 3, 4]\n",
      "[LightGBM] [Warning] bagging_freq is set=1, subsample_freq=0 will be ignored. Current value: bagging_freq=1\n",
      "0.7051893022232005\n",
      "Iteration No: 45 ended. Search finished for the next optimal point.\n",
      "Time taken: 0.7901\n",
      "Function value obtained: -0.3772\n",
      "Current minimum: -0.4227\n",
      "Iteration No: 46 started. Searching for the next optimal point.\n",
      "[0.0031304259295205435, 2, 7, 0.0613082773547023, 0.29621772924408535, 941, 3, 2]\n",
      "[LightGBM] [Warning] bagging_freq is set=1, subsample_freq=0 will be ignored. Current value: bagging_freq=1\n",
      "0.7412942989214175\n",
      "Iteration No: 46 ended. Search finished for the next optimal point.\n",
      "Time taken: 1.1147\n",
      "Function value obtained: -0.4118\n",
      "Current minimum: -0.4227\n",
      "Iteration No: 47 started. Searching for the next optimal point.\n",
      "[0.0022529874330958826, 2, 20, 0.052954800051254095, 0.06683324151779446, 735, 2, 3]\n",
      "[LightGBM] [Warning] bagging_freq is set=1, subsample_freq=0 will be ignored. Current value: bagging_freq=1\n",
      "0.6232665639445301\n",
      "Iteration No: 47 ended. Search finished for the next optimal point.\n",
      "Time taken: 0.6349\n",
      "Function value obtained: -0.2232\n",
      "Current minimum: -0.4227\n",
      "Iteration No: 48 started. Searching for the next optimal point.\n",
      "[0.001644518593035039, 2, 20, 0.25663963277469237, 0.3828209115492502, 926, 2, 5]\n",
      "[LightGBM] [Warning] bagging_freq is set=1, subsample_freq=0 will be ignored. Current value: bagging_freq=1\n",
      "0.7686220559101915\n",
      "Iteration No: 48 ended. Search finished for the next optimal point.\n",
      "Time taken: 0.9451\n",
      "Function value obtained: -0.3931\n",
      "Current minimum: -0.4227\n",
      "Iteration No: 49 started. Searching for the next optimal point.\n",
      "[0.004717276758544176, 2, 12, 0.06125653652565545, 0.3403869493425924, 869, 2, 5]\n",
      "[LightGBM] [Warning] bagging_freq is set=1, subsample_freq=0 will be ignored. Current value: bagging_freq=1\n",
      "0.674570768214836\n",
      "Iteration No: 49 ended. Search finished for the next optimal point.\n",
      "Time taken: 0.8861\n",
      "Function value obtained: -0.2788\n",
      "Current minimum: -0.4227\n",
      "Iteration No: 50 started. Searching for the next optimal point.\n",
      "[0.005808607122131676, 2, 1, 0.09836941961022068, 0.22240024381622447, 931, 2, 2]\n",
      "[LightGBM] [Warning] bagging_freq is set=1, subsample_freq=0 will be ignored. Current value: bagging_freq=1\n",
      "0.7721329517939687\n",
      "Iteration No: 50 ended. Search finished for the next optimal point.\n",
      "Time taken: 1.9453\n",
      "Function value obtained: -0.3749\n",
      "Current minimum: -0.4227\n"
     ]
    }
   ],
   "source": [
    "def tuneLGBM(params):\n",
    "    print(params)\n",
    "    lr = params[0]\n",
    "    max_depth = params[1]\n",
    "    min_child_samples = params[2]\n",
    "    subsample = params[3]\n",
    "    colsample_bytree = params[4]\n",
    "    n_estimators = params[5]\n",
    "    min_df = params[6]\n",
    "    ngram_range = (1, params[7])\n",
    "    \n",
    "    titleVec = TfidfVectorizer(min_df=min_df, ngram_range=ngram_range)\n",
    "    titleBowTrain = titleVec.fit_transform(titleTrain)\n",
    "    titleBowVal = titleVec.transform(titleVal)\n",
    "    \n",
    "    XtrainWTitle = hstack([Xtrain, titleBowTrain])\n",
    "    XvalWTitle = hstack([Xval, titleBowVal])\n",
    "    \n",
    "    model = LGBMClassifier(learning_rate=lr, num_leaves=2 ** max_depth, max_depth=max_depth,\n",
    "                           min_child_samples=min_child_samples, subsample=subsample, colsample_bytree=colsample_bytree,\n",
    "                           bagging_freq=1, n_estimators=n_estimators, random_state=0, class_weight='balanced', n_jobs=-1)\n",
    "    \n",
    "    model.fit(XtrainWTitle, ytrain)\n",
    "    \n",
    "    p = model.predict_proba(XvalWTitle)[:,1]\n",
    "    \n",
    "    print(roc_auc_score(yval, p))\n",
    "    \n",
    "    return -average_precision_score(yval,p)\n",
    "\n",
    "\n",
    "\n",
    "space = [(1e-3, 1e-1, 'log-uniform'), #lr\n",
    "        (1, 10), #max_depth\n",
    "        (1, 20), #min_child_samples\n",
    "        (0.05, 1.0), #subsample\n",
    "        (0.05, 1.0), #colsample_bytree\n",
    "        (100, 1000), #n_estimetors\n",
    "        (1, 5), #min_df\n",
    "        (1, 5)] #ngram_range\n",
    "\n",
    "\n",
    "\n",
    "result = forest_minimize(tuneLGBM, space, random_state=160745, n_random_starts=20, n_calls=50, verbose=1)"
   ]
  },
  {
   "cell_type": "code",
   "execution_count": 25,
   "metadata": {},
   "outputs": [
    {
     "data": {
      "text/plain": [
       "[0.001477438108754858,\n",
       " 3,\n",
       " 10,\n",
       " 0.16137221087324535,\n",
       " 0.19593296243176872,\n",
       " 966,\n",
       " 3,\n",
       " 5]"
      ]
     },
     "execution_count": 25,
     "metadata": {},
     "output_type": "execute_result"
    }
   ],
   "source": [
    "result.x"
   ]
  },
  {
   "cell_type": "markdown",
   "metadata": {},
   "source": [
    "##### LGBMClassifier\n",
    "\n",
    "- [0.001477438108754858, 3, 10, 0.16137221087324535, 0.19593296243176872, 966, 3, 5]\n",
    "- ap: 0.4227, auc: 0.7806845696676206"
   ]
  },
  {
   "cell_type": "markdown",
   "metadata": {},
   "source": [
    "## Model With Hyperparameter Tuning"
   ]
  },
  {
   "cell_type": "code",
   "execution_count": 309,
   "metadata": {},
   "outputs": [
    {
     "name": "stdout",
     "output_type": "stream",
     "text": [
      "[LightGBM] [Warning] bagging_freq is set=1, subsample_freq=0 will be ignored. Current value: bagging_freq=1\n",
      "ap: 0.42266615524449913, auc: 0.7806845696676206\n"
     ]
    }
   ],
   "source": [
    "params = [0.001477438108754858, #lr\n",
    " 3, #max_depth\n",
    " 10, #min_child_samples\n",
    " 0.16137221087324535, #subsample\n",
    " 0.19593296243176872, #colsample_bytree\n",
    " 966, #n_estimetors\n",
    " 3,  #min_df\n",
    " 5] #ngram_range\n",
    "\n",
    "\n",
    "\n",
    "lr = params[0]\n",
    "max_depth = params[1]\n",
    "min_child_samples = params[2]\n",
    "subsample = params[3]\n",
    "colsample_bytree = params[4]\n",
    "n_estimators = params[5]\n",
    "min_df = params[6]\n",
    "ngram_range = (1, params[7])\n",
    "\n",
    "titleVec = TfidfVectorizer(min_df=min_df, ngram_range=ngram_range)\n",
    "titleBowTrain = titleVec.fit_transform(titleTrain)\n",
    "titleBowVal = titleVec.transform(titleVal)\n",
    "\n",
    "XtrainWTitle = hstack([Xtrain, titleBowTrain])\n",
    "XvalWTitle = hstack([Xval, titleBowVal])\n",
    "\n",
    "modelLgbm = LGBMClassifier(learning_rate=lr, num_leaves=2 ** max_depth, max_depth=max_depth,\n",
    "                       min_child_samples=min_child_samples, subsample=subsample, colsample_bytree=colsample_bytree,\n",
    "                       bagging_freq=1, n_estimators=n_estimators, random_state=0, class_weight='balanced', n_jobs=-1)\n",
    "\n",
    "modelLgbm.fit(XtrainWTitle, ytrain)\n",
    "\n",
    "pLgbm = modelLgbm.predict_proba(XvalWTitle)[:,1]\n",
    "\n",
    "\n",
    "print(f'ap: {average_precision_score(yval,pLgbm)}, auc: {roc_auc_score(yval, pLgbm)}')\n",
    "\n",
    "#ap: 0.4211858121788448, auc: 0.7803543913713407"
   ]
  },
  {
   "cell_type": "markdown",
   "metadata": {},
   "source": [
    "# Logistic Regression"
   ]
  },
  {
   "cell_type": "markdown",
   "metadata": {},
   "source": [
    "### Data Preparation"
   ]
  },
  {
   "cell_type": "code",
   "execution_count": 247,
   "metadata": {},
   "outputs": [],
   "source": [
    "XtrainWTitle2 = csr_matrix(XtrainWTitle.copy())\n",
    "XvalWTitle2 = csr_matrix(XvalWTitle.copy())\n",
    "\n",
    "\n",
    "scaler = MaxAbsScaler()\n",
    "\n",
    "XtrainWTitle2 = scaler.fit_transform(XtrainWTitle2)\n",
    "XvalWTitle2 = scaler.transform(XvalWTitle2)"
   ]
  },
  {
   "cell_type": "code",
   "execution_count": 248,
   "metadata": {},
   "outputs": [
    {
     "data": {
      "text/plain": [
       "(888, 1139)"
      ]
     },
     "execution_count": 248,
     "metadata": {},
     "output_type": "execute_result"
    }
   ],
   "source": [
    "XvalWTitle2.shape"
   ]
  },
  {
   "cell_type": "markdown",
   "metadata": {},
   "source": [
    "### Model"
   ]
  },
  {
   "cell_type": "code",
   "execution_count": 249,
   "metadata": {},
   "outputs": [],
   "source": [
    "modelLr = LogisticRegression(C=0.01, n_jobs=-1, random_state=0)\n",
    "modelLr.fit(XtrainWTitle2, ytrain)\n",
    "\n",
    "pLr = modelLr.predict_proba(XvalWTitle2)[:,1]"
   ]
  },
  {
   "cell_type": "code",
   "execution_count": 250,
   "metadata": {},
   "outputs": [
    {
     "name": "stdout",
     "output_type": "stream",
     "text": [
      "ap: 0.3986324868099709, auc: 0.7804974686330618\n"
     ]
    }
   ],
   "source": [
    "print(f'ap: {average_precision_score(yval, pLr)}, auc: {roc_auc_score(yval, pLr)}')"
   ]
  },
  {
   "cell_type": "markdown",
   "metadata": {},
   "source": [
    "# Ensamble"
   ]
  },
  {
   "cell_type": "markdown",
   "metadata": {},
   "source": [
    "#### min_df > 3\n",
    "- LGBM | ap: 0.42266615524449913, auc: 0.7806845696676206\n",
    "- LR   | ap: 0.3986324868099709, auc: 0.7804974686330618\n",
    "- RF   | ap: 0.43734417259145686, auc: 0.788895003301783\n",
    "\n",
    "#### min_df > 2\n",
    "- LGBM | ap: 0.41114784456628284, auc: 0.7786154523442659\n",
    "- LR   | ap: 0.3809915480394665, auc: 0.7685009905348889\n",
    "- RF   | ap: 0.4035174762881823, auc: 0.7769480519480519"
   ]
  },
  {
   "cell_type": "code",
   "execution_count": 262,
   "metadata": {},
   "outputs": [
    {
     "data": {
      "text/html": [
       "<div>\n",
       "<style scoped>\n",
       "    .dataframe tbody tr th:only-of-type {\n",
       "        vertical-align: middle;\n",
       "    }\n",
       "\n",
       "    .dataframe tbody tr th {\n",
       "        vertical-align: top;\n",
       "    }\n",
       "\n",
       "    .dataframe thead th {\n",
       "        text-align: right;\n",
       "    }\n",
       "</style>\n",
       "<table border=\"1\" class=\"dataframe\">\n",
       "  <thead>\n",
       "    <tr style=\"text-align: right;\">\n",
       "      <th></th>\n",
       "      <th>RF</th>\n",
       "      <th>LR</th>\n",
       "      <th>LGBM</th>\n",
       "    </tr>\n",
       "  </thead>\n",
       "  <tbody>\n",
       "    <tr>\n",
       "      <th>RF</th>\n",
       "      <td>1.000000</td>\n",
       "      <td>0.830465</td>\n",
       "      <td>0.919730</td>\n",
       "    </tr>\n",
       "    <tr>\n",
       "      <th>LR</th>\n",
       "      <td>0.830465</td>\n",
       "      <td>1.000000</td>\n",
       "      <td>0.820297</td>\n",
       "    </tr>\n",
       "    <tr>\n",
       "      <th>LGBM</th>\n",
       "      <td>0.919730</td>\n",
       "      <td>0.820297</td>\n",
       "      <td>1.000000</td>\n",
       "    </tr>\n",
       "  </tbody>\n",
       "</table>\n",
       "</div>"
      ],
      "text/plain": [
       "            RF        LR      LGBM\n",
       "RF    1.000000  0.830465  0.919730\n",
       "LR    0.830465  1.000000  0.820297\n",
       "LGBM  0.919730  0.820297  1.000000"
      ]
     },
     "execution_count": 262,
     "metadata": {},
     "output_type": "execute_result"
    }
   ],
   "source": [
    "pd.DataFrame({'RF': pRf,'LR': pLr, 'LGBM': pLgbm}).corr()"
   ]
  },
  {
   "cell_type": "code",
   "execution_count": 315,
   "metadata": {},
   "outputs": [
    {
     "name": "stdout",
     "output_type": "stream",
     "text": [
      "ap: 0.4330701963522659, auc: 0.7886198547215497\n"
     ]
    }
   ],
   "source": [
    "p = (0.57*pRf + 0.43*pLgbm)\n",
    "print(f'ap: {average_precision_score(yval,p)}, auc: {roc_auc_score(yval, p)}')\n",
    "\n",
    "# ap: 0.4325093482032139, auc: 0.7893132291437376\n",
    "# ap: 0.4333159558286226, auc: 0.7887739379264804"
   ]
  },
  {
   "cell_type": "markdown",
   "metadata": {},
   "source": [
    "# Save Model"
   ]
  },
  {
   "cell_type": "code",
   "execution_count": 136,
   "metadata": {},
   "outputs": [],
   "source": [
    "import joblib as jb"
   ]
  },
  {
   "cell_type": "code",
   "execution_count": null,
   "metadata": {},
   "outputs": [],
   "source": [
    "# jb.dump(modelRf,'D:/01-DataScience/04-Projetos/00-Git/Youtube-Video-Recommendations/Model/modelRf.pkl.z')\n",
    "\n",
    "# jb.dump(modelRf,'D:/01-DataScience/04-Projetos/00-Git/Youtube-Video-Recommendations/Model/modelRf.pkl.z')\n",
    "# jb.dump(modelLgbm,'D:/01-DataScience/04-Projetos/00-Git/Youtube-Video-Recommendations/Model/modelLgbm.pkl.z')\n",
    "# jb.dump(modelLr,'D:/01-DataScience/04-Projetos/00-Git/Youtube-Video-Recommendations/Model/modelLgbm.pkl.z')"
   ]
  }
 ],
 "metadata": {
  "kernelspec": {
   "display_name": "Python 3",
   "language": "python",
   "name": "python3"
  },
  "language_info": {
   "codemirror_mode": {
    "name": "ipython",
    "version": 3
   },
   "file_extension": ".py",
   "mimetype": "text/x-python",
   "name": "python",
   "nbconvert_exporter": "python",
   "pygments_lexer": "ipython3",
   "version": "3.8.3"
  }
 },
 "nbformat": 4,
 "nbformat_minor": 4
}
