{
 "cells": [
  {
   "cell_type": "markdown",
   "metadata": {},
   "source": [
    "# Import Libraries"
   ]
  },
  {
   "cell_type": "code",
   "execution_count": 1,
   "metadata": {},
   "outputs": [],
   "source": [
    "import pandas as pd\n",
    "\n",
    "from stack.Stack import stack_scrape"
   ]
  },
  {
   "cell_type": "code",
   "execution_count": 2,
   "metadata": {},
   "outputs": [],
   "source": [
    "class StackOverflow():    \n",
    "  \n",
    "    def __init__():\n",
    "        pass\n",
    "\n",
    "    def extract_data_from_url(url):\n",
    "        \n",
    "        response = requests.get(url)\n",
    "        html = response.text\n",
    "        soup = BeautifulSoup(html, 'html.parser')\n",
    "        data = StackOverflow.parse_tagged_page(soup)\n",
    "        return data\n",
    "\n",
    "    def clean_scraped_data(text , keyname=None):\n",
    "        if keyname == 'votes':\n",
    "            return text.replace('\\nvotes', '')\n",
    "        elif keyname == 'answer':\n",
    "            return text.replace('answers', '')\n",
    "        return text\n",
    "    \n",
    "    def get_id(q):\n",
    "        \n",
    "        pattern = 'href=\"/questions/([^\"]+)[\\/]'\n",
    "        q_id = re.search(pattern,q).group(1)\n",
    "        return q_id\n",
    "    \n",
    "    \n",
    "    def parse_tagged_page(soup):\n",
    "        question_summaries = soup.select('.question-summary')\n",
    "        key_names = ['question', 'votes', 'tags','answer']\n",
    "        classes_needed = ['.question-hyperlink', '.vote', '.tags', '.status']\n",
    "        datas = []\n",
    "        for q_el in question_summaries:\n",
    "            question_data = {}\n",
    "            for i, _class in enumerate(classes_needed):\n",
    "                sub_el = q_el.select(_class)[0]\n",
    "                keyname = key_names[i]\n",
    "                question_data[keyname] = StackOverflow.clean_scraped_data(sub_el.text.strip(), keyname=keyname)\n",
    "                if _class == '.question-hyperlink':\n",
    "                    question_data['id'] = StackOverflow.get_id(str(sub_el))\n",
    "            datas.append(question_data)\n",
    "            \n",
    "        return datas\n",
    "    \n",
    "    \n",
    "    def scrape_data(tag, query_filter, max_pages, pagesize):\n",
    "        \n",
    "        base_url = 'https://stackoverflow.com/questions/tagged/'\n",
    "        datas = list()\n",
    "        for p in range(max_pages):\n",
    "            page_num = p + 1\n",
    "            url = f'{base_url}{tag}?tab={query_filter}&page={page_num}&pagesize={pagesize}'\n",
    "            datas += StackOverflow.extract_data_from_url(url)\n",
    "            time.sleep(0.5)\n",
    "        return datas"
   ]
  },
  {
   "cell_type": "code",
   "execution_count": 3,
   "metadata": {},
   "outputs": [],
   "source": [
    "stack = stack_scrape()\n",
    "scrape_data = stack.scrape_data(**params)"
   ]
  },
  {
   "cell_type": "code",
   "execution_count": 8,
   "metadata": {},
   "outputs": [],
   "source": [
    "scrape_data = StackOverflow.scrape_data(**parameter_url)"
   ]
  },
  {
   "cell_type": "code",
   "execution_count": 9,
   "metadata": {},
   "outputs": [],
   "source": [
    "dfStackOverFlor = pd.DataFrame(scrape_data, columns=scrape_data[0].keys())"
   ]
  },
  {
   "cell_type": "code",
   "execution_count": 10,
   "metadata": {},
   "outputs": [
    {
     "data": {
      "text/html": [
       "<div>\n",
       "<style scoped>\n",
       "    .dataframe tbody tr th:only-of-type {\n",
       "        vertical-align: middle;\n",
       "    }\n",
       "\n",
       "    .dataframe tbody tr th {\n",
       "        vertical-align: top;\n",
       "    }\n",
       "\n",
       "    .dataframe thead th {\n",
       "        text-align: right;\n",
       "    }\n",
       "</style>\n",
       "<table border=\"1\" class=\"dataframe\">\n",
       "  <thead>\n",
       "    <tr style=\"text-align: right;\">\n",
       "      <th></th>\n",
       "      <th>question</th>\n",
       "      <th>id</th>\n",
       "      <th>votes</th>\n",
       "      <th>tags</th>\n",
       "      <th>answer</th>\n",
       "    </tr>\n",
       "  </thead>\n",
       "  <tbody>\n",
       "    <tr>\n",
       "      <th>0</th>\n",
       "      <td>What does the “yield” keyword do?</td>\n",
       "      <td>231767</td>\n",
       "      <td>10723</td>\n",
       "      <td>python iterator generator yield coroutine</td>\n",
       "      <td>42</td>\n",
       "    </tr>\n",
       "    <tr>\n",
       "      <th>1</th>\n",
       "      <td>What does if __name__ == “__main__”: do?</td>\n",
       "      <td>419163</td>\n",
       "      <td>6476</td>\n",
       "      <td>python namespaces main python-module idioms</td>\n",
       "      <td>34</td>\n",
       "    </tr>\n",
       "    <tr>\n",
       "      <th>2</th>\n",
       "      <td>Does Python have a ternary conditional operator?</td>\n",
       "      <td>394809</td>\n",
       "      <td>6367</td>\n",
       "      <td>python operators ternary-operator conditional-...</td>\n",
       "      <td>26</td>\n",
       "    </tr>\n",
       "    <tr>\n",
       "      <th>3</th>\n",
       "      <td>What are metaclasses in Python?</td>\n",
       "      <td>100003</td>\n",
       "      <td>5954</td>\n",
       "      <td>python oop metaclass python-datamodel</td>\n",
       "      <td>22</td>\n",
       "    </tr>\n",
       "    <tr>\n",
       "      <th>4</th>\n",
       "      <td>How do I check whether a file exists without e...</td>\n",
       "      <td>82831</td>\n",
       "      <td>5883</td>\n",
       "      <td>python file file-exists</td>\n",
       "      <td>39</td>\n",
       "    </tr>\n",
       "  </tbody>\n",
       "</table>\n",
       "</div>"
      ],
      "text/plain": [
       "                                            question      id  votes  \\\n",
       "0                  What does the “yield” keyword do?  231767  10723   \n",
       "1           What does if __name__ == “__main__”: do?  419163   6476   \n",
       "2   Does Python have a ternary conditional operator?  394809   6367   \n",
       "3                    What are metaclasses in Python?  100003   5954   \n",
       "4  How do I check whether a file exists without e...   82831   5883   \n",
       "\n",
       "                                                tags answer  \n",
       "0          python iterator generator yield coroutine     42  \n",
       "1        python namespaces main python-module idioms     34  \n",
       "2  python operators ternary-operator conditional-...     26  \n",
       "3              python oop metaclass python-datamodel     22  \n",
       "4                            python file file-exists     39  "
      ]
     },
     "execution_count": 10,
     "metadata": {},
     "output_type": "execute_result"
    }
   ],
   "source": [
    "dfStackOverFlor.head()"
   ]
  }
 ],
 "metadata": {
  "kernelspec": {
   "display_name": "Python 3",
   "language": "python",
   "name": "python3"
  },
  "language_info": {
   "codemirror_mode": {
    "name": "ipython",
    "version": 3
   },
   "file_extension": ".py",
   "mimetype": "text/x-python",
   "name": "python",
   "nbconvert_exporter": "python",
   "pygments_lexer": "ipython3",
   "version": "3.8.3"
  }
 },
 "nbformat": 4,
 "nbformat_minor": 4
}
